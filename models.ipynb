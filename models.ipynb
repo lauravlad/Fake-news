{
 "cells": [
  {
   "cell_type": "markdown",
   "metadata": {},
   "source": [
    "\n",
    "\n",
    "<h1>Table of Contents<span class=\"tocSkip\"></span></h1>\n",
    "\n",
    "<div class=\"toc\"><ul class=\"toc-item\"><li><span><a href=\"#Import packages\" data-toc-modified-id=\"Import packages-1\"><span class=\"toc-item-num\">1&nbsp;&nbsp;</span>Import packages</a></span>\n",
    "    \n",
    "<li><span><a href=\"#Import data\" data-toc-modified-id=\"Import data-2\"><span class=\"toc-item-num\">2&nbsp;&nbsp;</span>Import data</a></span>\n",
    "    \n",
    "<li><span><a href=\"#Separate data into target and data\" data-toc-modified-id=\"Separate data into target and data-3\"><span class=\"toc-item-num\">3&nbsp;&nbsp;</span>Separate data into target and data</a></span>  \n",
    "\n",
    "<li><span><a href=\"#Transform data\" data-toc-modified-id=\"Transform data-4\"><span class=\"toc-item-num\">4&nbsp;&nbsp;</span>Transform data</a></span>    \n",
    "\n",
    "<li><span><a href=\"#Train-Test split\" data-toc-modified-id=\"Train-Test split-5\"><span class=\"toc-item-num\">5&nbsp;&nbsp;</span>Train-Test split</a></span> \n",
    "    \n",
    "<li><span><a href=\"#Modeling\" data-toc-modified-id=\"Modeling-6\"><span class=\"toc-item-num\">6&nbsp;&nbsp;</span>Modeling</a></span> \n",
    "    \n",
    "<ul class=\"toc-item\">    \n",
    "\n",
    "<li><span><a href=\"#Accuracy Metrics\" data-toc-modified-id=\"Accuracy Metrics-6.1\"><span class=\"toc-item-num\">6.1&nbsp;&nbsp;</span>Accuracy Metrics</a></span>\n",
    "    \n",
    "</li><li><span><a href=\"#Instantiate classifiers\" data-toc-modified-id=\"Instantiate classifiers-6.2\"><span class=\"toc-item-num\">6.2&nbsp;&nbsp;</span>Instantiate classifiers</a></span></li>\n",
    "\n",
    "<li><span><a href=\"#Narrow down the best working models\" data-toc-modified-id=\"Narrow down the best working models-6.3\"><span class=\"toc-item-num\">6.3&nbsp;&nbsp;</span>Narrow down the best working models</a></span>\n",
    "\n",
    "</ul></li>\n",
    "\n",
    "<li><span><a href=\"#Tune Naive Bayes model\" data-toc-modified-id=\"Tune Naive Bayes model-7\"><span class=\"toc-item-num\">7&nbsp;&nbsp;</span>Tune Naive Bayes model</a></span>\n",
    "    \n",
    "<li><span><a href=\"#Test tunned model\" data-toc-modified-id=\"Test tunned model-8\"><span class=\"toc-item-num\">8&nbsp;&nbsp;</span>Test tunned model</a></span></li>\n",
    "    \n",
    "<li><span><a href=\"#Create a Pipeline\" data-toc-modified-id=\"Create a Pipeline-9\"><span class=\"toc-item-num\">9&nbsp;&nbsp;</span>Create a Pipeline</a></span>\n",
    "\n",
    "<li><span><a href=\"#Conclusions\" data-toc-modified-id=\"Conclusions-10\"><span class=\"toc-item-num\">10&nbsp;&nbsp;</span>Conclusions</a></span>\n",
    "\n",
    "<li><span><a href=\"#Future work\" data-toc-modified-id=\"Future work-11\"><span class=\"toc-item-num\">11&nbsp;&nbsp;</span>Future work</a></span></li>\n",
    "\n",
    "</ul></li>\n",
    "</ul></div>"
   ]
  },
  {
   "cell_type": "markdown",
   "metadata": {},
   "source": [
    "## Import packages & Data"
   ]
  },
  {
   "cell_type": "markdown",
   "metadata": {},
   "source": [
    "### Import packages"
   ]
  },
  {
   "cell_type": "code",
   "execution_count": 1,
   "metadata": {},
   "outputs": [
    {
     "name": "stderr",
     "output_type": "stream",
     "text": [
      "/Users/lauravlad/opt/anaconda3/envs/learn-env/lib/python3.6/site-packages/sklearn/externals/six.py:31: DeprecationWarning: The module is deprecated in version 0.21 and will be removed in version 0.23 since we've dropped support for Python 2.7. Please rely on the official version of six (https://pypi.org/project/six/).\n",
      "  \"(https://pypi.org/project/six/).\", DeprecationWarning)\n"
     ]
    }
   ],
   "source": [
    "import numpy as np\n",
    "import pandas as pd\n",
    "\n",
    "import matplotlib.pyplot as plt\n",
    "import seaborn as sns\n",
    "chosen_palette = 'Accent'\n",
    "%matplotlib inline\n",
    "\n",
    "from sklearn.model_selection import train_test_split\n",
    "from sklearn.model_selection import cross_val_score\n",
    "from sklearn.model_selection import GridSearchCV, RandomizedSearchCV\n",
    "\n",
    "from sklearn.preprocessing import OrdinalEncoder, OneHotEncoder, StandardScaler\n",
    "#from sklearn.impute import SimpleImputer, KNNImputer\n",
    "\n",
    "from sklearn.base import BaseEstimator, TransformerMixin\n",
    "from sklearn.compose import ColumnTransformer\n",
    "\n",
    "from sklearn.linear_model import LogisticRegression\n",
    "from sklearn.tree import DecisionTreeClassifier \n",
    "from sklearn.ensemble import RandomForestClassifier, AdaBoostClassifier, GradientBoostingClassifier\n",
    "from sklearn.neighbors import KNeighborsClassifier\n",
    "from sklearn.naive_bayes import MultinomialNB\n",
    "from sklearn.svm import SVC\n",
    "import xgboost as xgb\n",
    "\n",
    "\n",
    "from sklearn.metrics import roc_curve, auc, confusion_matrix, accuracy_score, f1_score, \\\n",
    "precision_score, recall_score, roc_auc_score, classification_report #plot_confusion_matrix \n",
    "\n",
    "from sklearn.metrics import make_scorer, precision_recall_curve\n",
    "\n",
    "\n",
    "from imblearn.pipeline import Pipeline\n",
    "\n",
    "# do not show any warnings\n",
    "import warnings\n",
    "warnings.filterwarnings('ignore')\n",
    "\n",
    "import time\n",
    "\n",
    "from sklearn.feature_extraction.text import CountVectorizer\n",
    "from sklearn.feature_extraction.text import TfidfTransformer\n",
    "\n",
    "# set random state\n",
    "random_state = 0"
   ]
  },
  {
   "cell_type": "markdown",
   "metadata": {},
   "source": [
    "### Import Data"
   ]
  },
  {
   "cell_type": "code",
   "execution_count": 2,
   "metadata": {},
   "outputs": [
    {
     "data": {
      "text/html": [
       "<div>\n",
       "<style scoped>\n",
       "    .dataframe tbody tr th:only-of-type {\n",
       "        vertical-align: middle;\n",
       "    }\n",
       "\n",
       "    .dataframe tbody tr th {\n",
       "        vertical-align: top;\n",
       "    }\n",
       "\n",
       "    .dataframe thead th {\n",
       "        text-align: right;\n",
       "    }\n",
       "</style>\n",
       "<table border=\"1\" class=\"dataframe\">\n",
       "  <thead>\n",
       "    <tr style=\"text-align: right;\">\n",
       "      <th></th>\n",
       "      <th>text</th>\n",
       "      <th>label</th>\n",
       "    </tr>\n",
       "  </thead>\n",
       "  <tbody>\n",
       "    <tr>\n",
       "      <td>0</td>\n",
       "      <td>WASHINGTON (Reuters) - The head of a conservat...</td>\n",
       "      <td>true</td>\n",
       "    </tr>\n",
       "    <tr>\n",
       "      <td>1</td>\n",
       "      <td>WASHINGTON (Reuters) - Transgender people will...</td>\n",
       "      <td>true</td>\n",
       "    </tr>\n",
       "  </tbody>\n",
       "</table>\n",
       "</div>"
      ],
      "text/plain": [
       "                                                text label\n",
       "0  WASHINGTON (Reuters) - The head of a conservat...  true\n",
       "1  WASHINGTON (Reuters) - Transgender people will...  true"
      ]
     },
     "execution_count": 2,
     "metadata": {},
     "output_type": "execute_result"
    }
   ],
   "source": [
    "#import dataset to use the columns \n",
    "#load the data and turn it into a dataframe.\n",
    "df_true = pd.read_csv('True.csv')\n",
    "df_true.columns\n",
    "\n",
    "#df_true = df_true[['label', 'Clean_text']]\n",
    "df_true['label'] = 'true'\n",
    "df_true = df_true[['text','label']]\n",
    "df_true.head(2)\n",
    "#print(df_true['text'][0])"
   ]
  },
  {
   "cell_type": "code",
   "execution_count": 3,
   "metadata": {},
   "outputs": [],
   "source": [
    "#load the data and turn it into a dataframe.\n",
    "df_fake = pd.read_csv('Fake.csv')\n",
    "df_fake.columns\n",
    "\n",
    "#df_true = df_true[['label', 'Clean_text']]\n",
    "df_fake['label'] = 'fake'\n",
    "df_fake = df_fake[['text','label']]\n",
    "#print(df_fake.text[0])"
   ]
  },
  {
   "cell_type": "code",
   "execution_count": 4,
   "metadata": {},
   "outputs": [
    {
     "data": {
      "text/plain": [
       "44898"
      ]
     },
     "execution_count": 4,
     "metadata": {},
     "output_type": "execute_result"
    }
   ],
   "source": [
    "#create one datframe out of the two above.\n",
    "df = pd.concat([df_fake, df_true], axis = 0, ignore_index=True )\n",
    "df.reset_index()\n",
    "len(df)\n",
    "#print(df.text[0][0])\n"
   ]
  },
  {
   "cell_type": "code",
   "execution_count": 5,
   "metadata": {},
   "outputs": [
    {
     "data": {
      "text/plain": [
       "fake    0.522985\n",
       "true    0.477015\n",
       "Name: label, dtype: float64"
      ]
     },
     "execution_count": 5,
     "metadata": {},
     "output_type": "execute_result"
    }
   ],
   "source": [
    "df.label.value_counts(normalize= True)"
   ]
  },
  {
   "cell_type": "code",
   "execution_count": 6,
   "metadata": {},
   "outputs": [
    {
     "data": {
      "image/png": "[encoded data removed]",
      "text/plain": [
       "<Figure size 432x288 with 1 Axes>"
      ]
     },
     "metadata": {},
     "output_type": "display_data"
    }
   ],
   "source": [
    "# Plot decided dataset.\n",
    "# Pie chart, where the slices will be ordered and plotted counter-clockwise:\n",
    "labels = 'Fake News', 'Real News'\n",
    "sizes = [0.52, 0.48]\n",
    "explode = (0, 0.1)  # only \"explode\" the 2nd slice (i.e. 'Hogs')\n",
    "\n",
    "fig1, ax1 = plt.subplots()\n",
    "ax1.pie(sizes, explode=explode, labels=labels, autopct='%1.1f%%',\n",
    "        shadow=True, startangle=90)\n",
    "ax1.axis('equal')  # Equal aspect ratio ensures that pie is drawn as a circle.\n",
    "plt.title('Fake News vs Real News')\n",
    "\n",
    "plt.show()"
   ]
  },
  {
   "cell_type": "code",
   "execution_count": 7,
   "metadata": {},
   "outputs": [
    {
     "data": {
      "text/html": [
       "<div>\n",
       "<style scoped>\n",
       "    .dataframe tbody tr th:only-of-type {\n",
       "        vertical-align: middle;\n",
       "    }\n",
       "\n",
       "    .dataframe tbody tr th {\n",
       "        vertical-align: top;\n",
       "    }\n",
       "\n",
       "    .dataframe thead th {\n",
       "        text-align: right;\n",
       "    }\n",
       "</style>\n",
       "<table border=\"1\" class=\"dataframe\">\n",
       "  <thead>\n",
       "    <tr style=\"text-align: right;\">\n",
       "      <th></th>\n",
       "      <th>text</th>\n",
       "      <th>label</th>\n",
       "    </tr>\n",
       "  </thead>\n",
       "  <tbody>\n",
       "    <tr>\n",
       "      <td>0</td>\n",
       "      <td>Donald Trump just couldn t wish all Americans ...</td>\n",
       "      <td>fake</td>\n",
       "    </tr>\n",
       "    <tr>\n",
       "      <td>1</td>\n",
       "      <td>House Intelligence Committee Chairman Devin Nu...</td>\n",
       "      <td>fake</td>\n",
       "    </tr>\n",
       "    <tr>\n",
       "      <td>2</td>\n",
       "      <td>On Friday, it was revealed that former Milwauk...</td>\n",
       "      <td>fake</td>\n",
       "    </tr>\n",
       "    <tr>\n",
       "      <td>3</td>\n",
       "      <td>On Christmas day, Donald Trump announced that ...</td>\n",
       "      <td>fake</td>\n",
       "    </tr>\n",
       "    <tr>\n",
       "      <td>4</td>\n",
       "      <td>Pope Francis used his annual Christmas Day mes...</td>\n",
       "      <td>fake</td>\n",
       "    </tr>\n",
       "  </tbody>\n",
       "</table>\n",
       "</div>"
      ],
      "text/plain": [
       "                                                text label\n",
       "0  Donald Trump just couldn t wish all Americans ...  fake\n",
       "1  House Intelligence Committee Chairman Devin Nu...  fake\n",
       "2  On Friday, it was revealed that former Milwauk...  fake\n",
       "3  On Christmas day, Donald Trump announced that ...  fake\n",
       "4  Pope Francis used his annual Christmas Day mes...  fake"
      ]
     },
     "execution_count": 7,
     "metadata": {},
     "output_type": "execute_result"
    }
   ],
   "source": [
    "#check what it looks like.\n",
    "df.head()"
   ]
  },
  {
   "cell_type": "markdown",
   "metadata": {},
   "source": [
    "# Separate data into target & predictor "
   ]
  },
  {
   "cell_type": "code",
   "execution_count": 8,
   "metadata": {},
   "outputs": [],
   "source": [
    "#Store the column that will be the target, 'label', in the variable target.\n",
    "target = df['label']\n",
    "#target.head()\n",
    "#df['text'].head(2)\n",
    "#Store the 'text' column in the variable data.\n",
    "data = df['text']"
   ]
  },
  {
   "cell_type": "code",
   "execution_count": 9,
   "metadata": {},
   "outputs": [
    {
     "data": {
      "text/plain": [
       "fake    23481\n",
       "true    21417\n",
       "Name: label, dtype: int64"
      ]
     },
     "execution_count": 9,
     "metadata": {},
     "output_type": "execute_result"
    }
   ],
   "source": [
    "df.label.value_counts()"
   ]
  },
  {
   "cell_type": "markdown",
   "metadata": {},
   "source": [
    "Text preprocessing, tokenizing and filtering of stopwords are all included in CountVectorizer, which builds a dictionary of features and transforms documents to feature vectors:"
   ]
  },
  {
   "cell_type": "markdown",
   "metadata": {},
   "source": [
    "# Transform data"
   ]
  },
  {
   "cell_type": "code",
   "execution_count": 10,
   "metadata": {},
   "outputs": [
    {
     "data": {
      "text/plain": [
       "(44898, 122002)"
      ]
     },
     "execution_count": 10,
     "metadata": {},
     "output_type": "execute_result"
    }
   ],
   "source": [
    "count_vect = CountVectorizer()\n",
    "data_counts = count_vect.fit_transform(data)\n",
    "data_counts.shape"
   ]
  },
  {
   "cell_type": "code",
   "execution_count": 11,
   "metadata": {},
   "outputs": [
    {
     "data": {
      "text/plain": [
       "10889"
      ]
     },
     "execution_count": 11,
     "metadata": {},
     "output_type": "execute_result"
    }
   ],
   "source": [
    "count_vect.vocabulary_.get(u'algorithm')"
   ]
  },
  {
   "cell_type": "code",
   "execution_count": 12,
   "metadata": {},
   "outputs": [
    {
     "data": {
      "text/plain": [
       "(44898, 122002)"
      ]
     },
     "execution_count": 12,
     "metadata": {},
     "output_type": "execute_result"
    }
   ],
   "source": [
    "#Tf–idf, short for term frequency–inverse document frequency, is a numerical statistic that is intended \n",
    "#to reflect how important a word is to a document in a collection or corpus.\n",
    "tf_transformer = TfidfTransformer(use_idf=False).fit(data_counts)\n",
    "data_tf = tf_transformer.transform(data_counts)\n",
    "data_tf.shape"
   ]
  },
  {
   "cell_type": "code",
   "execution_count": 13,
   "metadata": {},
   "outputs": [
    {
     "data": {
      "text/plain": [
       "(44898, 122002)"
      ]
     },
     "execution_count": 13,
     "metadata": {},
     "output_type": "execute_result"
    }
   ],
   "source": [
    "#Fit \n",
    "tfidf_transformer = TfidfTransformer()\n",
    "data_tfidf = tfidf_transformer.fit_transform(data_counts)\n",
    "data_tfidf.shape"
   ]
  },
  {
   "cell_type": "code",
   "execution_count": 14,
   "metadata": {},
   "outputs": [],
   "source": [
    "#Turn target into categorical data.\n",
    "target = pd.Categorical(target)"
   ]
  },
  {
   "cell_type": "code",
   "execution_count": 15,
   "metadata": {},
   "outputs": [],
   "source": [
    "#get dummy categories for target column.\n",
    "target= pd.get_dummies(target, drop_first=True)\n",
    "#target.head()"
   ]
  },
  {
   "cell_type": "markdown",
   "metadata": {},
   "source": [
    "# Train test split"
   ]
  },
  {
   "cell_type": "code",
   "execution_count": 16,
   "metadata": {},
   "outputs": [],
   "source": [
    "# Define Random State\n",
    "seed = 0\n",
    "\n",
    "# Split the data into training and test sets\n",
    "X_train, X_test, y_train, y_test = train_test_split(data_tfidf, target, test_size=0.20, random_state=seed)\n",
    "\n"
   ]
  },
  {
   "cell_type": "markdown",
   "metadata": {},
   "source": [
    "# Baseline Models"
   ]
  },
  {
   "cell_type": "markdown",
   "metadata": {},
   "source": [
    "## Accuracy Metrics"
   ]
  },
  {
   "cell_type": "markdown",
   "metadata": {},
   "source": [
    "\n",
    "## Less False Negatives = Higher Recall \n",
    "\n",
    "These models cound be used by Facebook, Twitter or political commentators to rapidly identify fake news and inform the consumers about it.\n",
    "We care the most about having a high true positive rate and a low false negative rate, therefore we will be optimizing our models for recall. The reason behind my decision is that it is more damaging for your credibility if you report many false fake news ( Fake news that are in fact truthfull.) than letting go a few fake news. A false fake news article could be considered a deliberate political action and used against you. Lawsuits could follow.\n",
    "\n",
    "### Recall:\n",
    "\n",
    "Recall out of true observations, how many were accurately predicted.\n",
    "\n",
    "Recall=TP/(TP+FN) where TP is true positives and FN is false negatives. For higher the FN we will have a lower recall.\n",
    " \n",
    "\n"
   ]
  },
  {
   "cell_type": "markdown",
   "metadata": {},
   "source": [
    "Baseline Models¶\n",
    "Create a DataFrame that contains:\n",
    "\n",
    "Our 8 initial classifiers\n",
    "Class balanced training data (X & y)\n",
    "Test data (X & y)\n",
    "Then create a function to fit our models, make predictions, calculate the accuracy scores, and return everything in a DataFrame."
   ]
  },
  {
   "cell_type": "markdown",
   "metadata": {},
   "source": [
    "### Instatiate Classifiers"
   ]
  },
  {
   "cell_type": "markdown",
   "metadata": {},
   "source": [
    "More info on these functions <a href=\"https://github.com/nadinezab/bank-marketing\">here </a>"
   ]
  },
  {
   "cell_type": "code",
   "execution_count": 17,
   "metadata": {},
   "outputs": [],
   "source": [
    "# Create a dictionary of classifiers with their default parameters for now.\n",
    "clf_dict = {\n",
    "    'Logistic Regression': LogisticRegression(random_state = random_state),\n",
    "    'K-Nearest Neighbours': KNeighborsClassifier(),\n",
    "    'Decision Tree': DecisionTreeClassifier(random_state = random_state),\n",
    "    'Naive Bayes': MultinomialNB(),\n",
    "    #'Support Vector Classification': SVC(random_state = random_state, probability = True),\n",
    "    'Random Forrest': RandomForestClassifier(random_state = random_state),\n",
    "    'AdaBoost': AdaBoostClassifier(random_state = random_state),\n",
    "    'Gradient Boosting': GradientBoostingClassifier(random_state = random_state),\n",
    "    'XGBoost' : xgb.XGBClassifier()\n",
    "}\n"
   ]
  },
  {
   "cell_type": "code",
   "execution_count": 18,
   "metadata": {},
   "outputs": [],
   "source": [
    "#This function will fit each classifier onto the training set and generate predictions for train and test sets. \n",
    "#It will also plot the ROC curves for the different classifiers on the same plot, allowing for comparison and \n",
    "#return a table with the various metrics.\n",
    "\n",
    "def batch_clf(X_train, y_train, X_test, y_test, clf_dict, verbose = True):\n",
    "    '''\n",
    "    Fits a dictionary of classifiers, makes predictions, plots ROC, returns metrics\n",
    "    \n",
    "    Args:\n",
    "        X_train: {array-like, sparse matrix} of shape (n_samples, n_features) train input values\n",
    "        y_train: array-like of shape (n_samples,) train target values\n",
    "        X_test: {array-like, sparse matrix} of shape (m_samples, m_features) test input values\n",
    "        y_test: array-like of shape (m_samples,) test target values\n",
    "        clf_dict: dictionary with key name of classifier and value classifier instance\n",
    "        verbose: if True, prints time taken to fit and predict for each classifier\n",
    "        \n",
    "    Returns:\n",
    "        Results dataframe\n",
    "    '''\n",
    "    # Create empty DataFrame to store results\n",
    "    times = []\n",
    "    train_acc_scores = []\n",
    "    test_acc_scores = []\n",
    "    train_f1_scores = []\n",
    "    test_f1_scores = []\n",
    "    train_precision_scores = []\n",
    "    test_precision_scores = []\n",
    "    train_recall_scores = []\n",
    "    test_recall_scores = []\n",
    "    train_roc_data = []\n",
    "    test_roc_data = []\n",
    "    test_profit_scores = []\n",
    "    \n",
    "    # Loop through dictionary items\n",
    "    for key, clf in clf_dict.items():\n",
    "        start_time = time.clock()\n",
    "        \n",
    "        # Fit classifier\n",
    "        clf_fitted = clf.fit(X_train,y_train)\n",
    "        \n",
    "        # Get Predictions\n",
    "        train_preds = clf_fitted.predict(X_train)\n",
    "        test_preds = clf_fitted.predict(X_test)\n",
    "  \n",
    "        \n",
    "        #Get accuracy scores\n",
    "        train_acc = accuracy_score(y_train, train_preds)\n",
    "        train_acc_scores.append(round(train_acc,2))\n",
    "        test_acc = accuracy_score(y_test, test_preds)\n",
    "        test_acc_scores.append(round(test_acc,2))\n",
    "        \n",
    "        #Get F1 Scores\n",
    "        train_f1 = f1_score(y_train, train_preds)\n",
    "        train_f1_scores.append(round(train_f1,2))\n",
    "        test_f1 = f1_score(y_test, test_preds)\n",
    "        test_f1_scores.append(round(test_f1,2))\n",
    "        \n",
    "        # Get Precision Scores\n",
    "        train_precision = precision_score(y_train, train_preds)\n",
    "        train_precision_scores.append(round(train_precision,2))\n",
    "        test_precision = precision_score(y_test, test_preds)\n",
    "        test_precision_scores.append(round(test_precision,2))\n",
    "        \n",
    "        # Get Recall Scores\n",
    "        train_recall = recall_score(y_train, train_preds)\n",
    "        train_recall_scores.append(round(train_recall,2))\n",
    "        test_recall = recall_score(y_test, test_preds)\n",
    "        test_recall_scores.append(round(test_recall,2))\n",
    "        \n",
    "        # Get Probability Predictions\n",
    "        train_hat = clf_fitted.predict_proba(X_train)\n",
    "        train_proba = train_hat[:,1]\n",
    "        fpr_train, tpr_train, thresholds_train = roc_curve(y_train, train_proba)\n",
    "        train_roc_data.append([fpr_train, tpr_train, thresholds_train])\n",
    "            \n",
    "        test_hat = clf_fitted.predict_proba(X_test)\n",
    "        test_proba = test_hat[:,1]\n",
    "        fpr_test, tpr_test, thresholds_test = roc_curve(y_test, test_proba)\n",
    "        test_roc_data.append([fpr_test, tpr_test, thresholds_test])\n",
    "        \n",
    "        # Get Profit\n",
    "        \n",
    "        #best_t, best_profit = profit_threshold_optimizer(y_test, test_proba)\n",
    "        #test_profit_scores.append(best_profit)\n",
    "\n",
    "        end_time = time.clock()\n",
    "        time_elapsed = end_time - start_time\n",
    "        times.append(round(time_elapsed,2))\n",
    "        \n",
    "        if verbose:\n",
    "            print(f'trained {key} in {round(time_elapsed,2)}')\n",
    "        \n",
    "    # Create results dataframe\n",
    "    results = pd.DataFrame({'Model': list(clf_dict.keys()), \n",
    "                            'Time': times,\n",
    "                            'Train Accuracy': train_acc_scores,\n",
    "                            'Test Accuracy': test_acc_scores, \n",
    "                            'Train F1': train_f1_scores,\n",
    "                            'Test F1': test_f1_scores,\n",
    "                            'Train Precision' : train_precision_scores,\n",
    "                            'Test Precision' : test_precision_scores,\n",
    "                            'Train Recall': train_recall_scores,\n",
    "                            'Test Recall': test_recall_scores,\n",
    "                            #'Test Profit' : test_profit_scores\n",
    "                            })\n",
    "    \n",
    "   # Plot side by side ROC curve\n",
    "    fig, axes = plt.subplots(1,2, figsize = (13,6))\n",
    "    \n",
    "    for i in range(len(train_roc_data)):\n",
    "        axes[0].plot(train_roc_data[i][0], train_roc_data[i][1], lw=4, \\\n",
    "                 label= f'{list(clf_dict.keys())[i]}')\n",
    "        \n",
    "    for i in range(len(test_roc_data)):\n",
    "        axes[1].plot(test_roc_data[i][0], test_roc_data[i][1], lw=4, \\\n",
    "                 label= f'{list(clf_dict.keys())[i]}')    \n",
    "        \n",
    "    for ax in axes:\n",
    "        ax.plot([0, 1], [0, 1], color='navy', lw=2, linestyle='--')\n",
    "        ax.set_xlabel('False Positive Rate')\n",
    "        ax.set_ylabel('True Positive Rate')\n",
    "        ax.legend(loc='lower right')\n",
    "    axes[0].set_title('Receiver operating characteristic (ROC) Curve \\n Training Set')\n",
    "    axes[1].set_title('Receiver operating characteristic (ROC) Curve \\n Test Set')\n",
    "    plt.show()\n",
    "\n",
    "    return results"
   ]
  },
  {
   "cell_type": "code",
   "execution_count": 19,
   "metadata": {},
   "outputs": [
    {
     "name": "stdout",
     "output_type": "stream",
     "text": [
      "trained Logistic Regression in 7.99\n",
      "trained K-Nearest Neighbours in 437.14\n",
      "trained Decision Tree in 28.43\n",
      "trained Naive Bayes in 0.99\n",
      "trained Random Forrest in 14.36\n",
      "trained AdaBoost in 316.3\n",
      "trained Gradient Boosting in 586.13\n",
      "trained XGBoost in 125.24\n"
     ]
    },
    {
     "data": {
      "image/png": "[encoded data removed]",
      "text/plain": [
       "<Figure size 936x432 with 2 Axes>"
      ]
     },
     "metadata": {
      "needs_background": "light"
     },
     "output_type": "display_data"
    },
    {
     "data": {
      "text/html": [
       "<div>\n",
       "<style scoped>\n",
       "    .dataframe tbody tr th:only-of-type {\n",
       "        vertical-align: middle;\n",
       "    }\n",
       "\n",
       "    .dataframe tbody tr th {\n",
       "        vertical-align: top;\n",
       "    }\n",
       "\n",
       "    .dataframe thead th {\n",
       "        text-align: right;\n",
       "    }\n",
       "</style>\n",
       "<table border=\"1\" class=\"dataframe\">\n",
       "  <thead>\n",
       "    <tr style=\"text-align: right;\">\n",
       "      <th></th>\n",
       "      <th>Model</th>\n",
       "      <th>Time</th>\n",
       "      <th>Train Accuracy</th>\n",
       "      <th>Test Accuracy</th>\n",
       "      <th>Train F1</th>\n",
       "      <th>Test F1</th>\n",
       "      <th>Train Precision</th>\n",
       "      <th>Test Precision</th>\n",
       "      <th>Train Recall</th>\n",
       "      <th>Test Recall</th>\n",
       "    </tr>\n",
       "  </thead>\n",
       "  <tbody>\n",
       "    <tr>\n",
       "      <td>0</td>\n",
       "      <td>Logistic Regression</td>\n",
       "      <td>7.99</td>\n",
       "      <td>0.99</td>\n",
       "      <td>0.99</td>\n",
       "      <td>0.99</td>\n",
       "      <td>0.99</td>\n",
       "      <td>0.99</td>\n",
       "      <td>0.99</td>\n",
       "      <td>0.99</td>\n",
       "      <td>0.99</td>\n",
       "    </tr>\n",
       "    <tr>\n",
       "      <td>1</td>\n",
       "      <td>K-Nearest Neighbours</td>\n",
       "      <td>437.14</td>\n",
       "      <td>0.73</td>\n",
       "      <td>0.69</td>\n",
       "      <td>0.62</td>\n",
       "      <td>0.54</td>\n",
       "      <td>0.96</td>\n",
       "      <td>0.93</td>\n",
       "      <td>0.45</td>\n",
       "      <td>0.38</td>\n",
       "    </tr>\n",
       "    <tr>\n",
       "      <td>2</td>\n",
       "      <td>Decision Tree</td>\n",
       "      <td>28.43</td>\n",
       "      <td>1.00</td>\n",
       "      <td>1.00</td>\n",
       "      <td>1.00</td>\n",
       "      <td>1.00</td>\n",
       "      <td>1.00</td>\n",
       "      <td>1.00</td>\n",
       "      <td>1.00</td>\n",
       "      <td>1.00</td>\n",
       "    </tr>\n",
       "    <tr>\n",
       "      <td>3</td>\n",
       "      <td>Naive Bayes</td>\n",
       "      <td>0.99</td>\n",
       "      <td>0.94</td>\n",
       "      <td>0.94</td>\n",
       "      <td>0.94</td>\n",
       "      <td>0.94</td>\n",
       "      <td>0.95</td>\n",
       "      <td>0.95</td>\n",
       "      <td>0.94</td>\n",
       "      <td>0.93</td>\n",
       "    </tr>\n",
       "    <tr>\n",
       "      <td>4</td>\n",
       "      <td>Random Forrest</td>\n",
       "      <td>14.36</td>\n",
       "      <td>1.00</td>\n",
       "      <td>0.97</td>\n",
       "      <td>1.00</td>\n",
       "      <td>0.97</td>\n",
       "      <td>1.00</td>\n",
       "      <td>0.99</td>\n",
       "      <td>1.00</td>\n",
       "      <td>0.95</td>\n",
       "    </tr>\n",
       "    <tr>\n",
       "      <td>5</td>\n",
       "      <td>AdaBoost</td>\n",
       "      <td>316.30</td>\n",
       "      <td>1.00</td>\n",
       "      <td>0.99</td>\n",
       "      <td>1.00</td>\n",
       "      <td>0.99</td>\n",
       "      <td>1.00</td>\n",
       "      <td>0.99</td>\n",
       "      <td>1.00</td>\n",
       "      <td>1.00</td>\n",
       "    </tr>\n",
       "    <tr>\n",
       "      <td>6</td>\n",
       "      <td>Gradient Boosting</td>\n",
       "      <td>586.13</td>\n",
       "      <td>1.00</td>\n",
       "      <td>1.00</td>\n",
       "      <td>1.00</td>\n",
       "      <td>0.99</td>\n",
       "      <td>1.00</td>\n",
       "      <td>0.99</td>\n",
       "      <td>1.00</td>\n",
       "      <td>1.00</td>\n",
       "    </tr>\n",
       "    <tr>\n",
       "      <td>7</td>\n",
       "      <td>XGBoost</td>\n",
       "      <td>125.24</td>\n",
       "      <td>1.00</td>\n",
       "      <td>1.00</td>\n",
       "      <td>1.00</td>\n",
       "      <td>1.00</td>\n",
       "      <td>1.00</td>\n",
       "      <td>0.99</td>\n",
       "      <td>1.00</td>\n",
       "      <td>1.00</td>\n",
       "    </tr>\n",
       "  </tbody>\n",
       "</table>\n",
       "</div>"
      ],
      "text/plain": [
       "                  Model    Time  Train Accuracy  Test Accuracy  Train F1  \\\n",
       "0   Logistic Regression    7.99            0.99           0.99      0.99   \n",
       "1  K-Nearest Neighbours  437.14            0.73           0.69      0.62   \n",
       "2         Decision Tree   28.43            1.00           1.00      1.00   \n",
       "3           Naive Bayes    0.99            0.94           0.94      0.94   \n",
       "4        Random Forrest   14.36            1.00           0.97      1.00   \n",
       "5              AdaBoost  316.30            1.00           0.99      1.00   \n",
       "6     Gradient Boosting  586.13            1.00           1.00      1.00   \n",
       "7               XGBoost  125.24            1.00           1.00      1.00   \n",
       "\n",
       "   Test F1  Train Precision  Test Precision  Train Recall  Test Recall  \n",
       "0     0.99             0.99            0.99          0.99         0.99  \n",
       "1     0.54             0.96            0.93          0.45         0.38  \n",
       "2     1.00             1.00            1.00          1.00         1.00  \n",
       "3     0.94             0.95            0.95          0.94         0.93  \n",
       "4     0.97             1.00            0.99          1.00         0.95  \n",
       "5     0.99             1.00            0.99          1.00         1.00  \n",
       "6     0.99             1.00            0.99          1.00         1.00  \n",
       "7     1.00             1.00            0.99          1.00         1.00  "
      ]
     },
     "execution_count": 19,
     "metadata": {},
     "output_type": "execute_result"
    }
   ],
   "source": [
    "#Apply the above function to our training dataset, test dataset and the classifiers we selected.\n",
    "results = batch_clf(X_train, y_train, X_test, y_test, clf_dict)\n",
    "results"
   ]
  },
  {
   "cell_type": "markdown",
   "metadata": {},
   "source": [
    "## Narrow down the best working models"
   ]
  },
  {
   "cell_type": "code",
   "execution_count": 20,
   "metadata": {},
   "outputs": [],
   "source": [
    "# Create a narrowed dictionary of classifiers that contains only the classifiers that work better.\n",
    "clf_dict_narrowed = {\n",
    "    'K-Nearest Neighbours': KNeighborsClassifier(),\n",
    "    'Naive Bayes': MultinomialNB()\n",
    "}\n"
   ]
  },
  {
   "cell_type": "code",
   "execution_count": 21,
   "metadata": {},
   "outputs": [
    {
     "name": "stdout",
     "output_type": "stream",
     "text": [
      "trained K-Nearest Neighbours in 433.75\n",
      "trained Naive Bayes in 0.79\n"
     ]
    },
    {
     "data": {
      "image/png": "[encoded data removed]",
      "text/plain": [
       "<Figure size 936x432 with 2 Axes>"
      ]
     },
     "metadata": {
      "needs_background": "light"
     },
     "output_type": "display_data"
    },
    {
     "data": {
      "text/html": [
       "<div>\n",
       "<style scoped>\n",
       "    .dataframe tbody tr th:only-of-type {\n",
       "        vertical-align: middle;\n",
       "    }\n",
       "\n",
       "    .dataframe tbody tr th {\n",
       "        vertical-align: top;\n",
       "    }\n",
       "\n",
       "    .dataframe thead th {\n",
       "        text-align: right;\n",
       "    }\n",
       "</style>\n",
       "<table border=\"1\" class=\"dataframe\">\n",
       "  <thead>\n",
       "    <tr style=\"text-align: right;\">\n",
       "      <th></th>\n",
       "      <th>Model</th>\n",
       "      <th>Time</th>\n",
       "      <th>Train Accuracy</th>\n",
       "      <th>Test Accuracy</th>\n",
       "      <th>Train F1</th>\n",
       "      <th>Test F1</th>\n",
       "      <th>Train Precision</th>\n",
       "      <th>Test Precision</th>\n",
       "      <th>Train Recall</th>\n",
       "      <th>Test Recall</th>\n",
       "    </tr>\n",
       "  </thead>\n",
       "  <tbody>\n",
       "    <tr>\n",
       "      <td>0</td>\n",
       "      <td>K-Nearest Neighbours</td>\n",
       "      <td>433.75</td>\n",
       "      <td>0.73</td>\n",
       "      <td>0.69</td>\n",
       "      <td>0.62</td>\n",
       "      <td>0.54</td>\n",
       "      <td>0.96</td>\n",
       "      <td>0.93</td>\n",
       "      <td>0.45</td>\n",
       "      <td>0.38</td>\n",
       "    </tr>\n",
       "    <tr>\n",
       "      <td>1</td>\n",
       "      <td>Naive Bayes</td>\n",
       "      <td>0.79</td>\n",
       "      <td>0.94</td>\n",
       "      <td>0.94</td>\n",
       "      <td>0.94</td>\n",
       "      <td>0.94</td>\n",
       "      <td>0.95</td>\n",
       "      <td>0.95</td>\n",
       "      <td>0.94</td>\n",
       "      <td>0.93</td>\n",
       "    </tr>\n",
       "  </tbody>\n",
       "</table>\n",
       "</div>"
      ],
      "text/plain": [
       "                  Model    Time  Train Accuracy  Test Accuracy  Train F1  \\\n",
       "0  K-Nearest Neighbours  433.75            0.73           0.69      0.62   \n",
       "1           Naive Bayes    0.79            0.94           0.94      0.94   \n",
       "\n",
       "   Test F1  Train Precision  Test Precision  Train Recall  Test Recall  \n",
       "0     0.54             0.96            0.93          0.45         0.38  \n",
       "1     0.94             0.95            0.95          0.94         0.93  "
      ]
     },
     "execution_count": 21,
     "metadata": {},
     "output_type": "execute_result"
    }
   ],
   "source": [
    "results = batch_clf(X_train, y_train, X_test, y_test, clf_dict_narrowed)\n",
    "results"
   ]
  },
  {
   "cell_type": "markdown",
   "metadata": {},
   "source": [
    "## Tune Naive Bayes model"
   ]
  },
  {
   "cell_type": "markdown",
   "metadata": {},
   "source": [
    "We chose Naive Bayes because KNN classifier would take too long."
   ]
  },
  {
   "cell_type": "markdown",
   "metadata": {},
   "source": [
    "In cross-validations or K-folds, you split the data in k subsets, in our case (3,6,10), you train the model in all but one subset, and evaluate the model on the subset you haven't used. This operation is repeated k times for each one of the diffrent k subsets."
   ]
  },
  {
   "cell_type": "code",
   "execution_count": 22,
   "metadata": {},
   "outputs": [],
   "source": [
    "# Define param grid\n",
    "MNB_params = {\n",
    "    'clf__alpha': np.linspace(0.5, 1.5, 6),\n",
    "    'clf__fit_prior': [True, False]\n",
    "}\n",
    "    \n",
    "#KNN_params = {\n",
    "    #'clf__n_neighbors': [3, 5, 11, 15],\n",
    "    #'clf__weights': ['uniform', 'distance'],\n",
    "    #'clf__p': [1, 5]\n",
    "#}"
   ]
  },
  {
   "cell_type": "markdown",
   "metadata": {},
   "source": [
    "We tested for a higher cross-validation k-fold and it does not result in much higher accuracy. However only by a tiny bit, and the computational time for higher folds increases. When it comes time to use cv in our Grid Search section, we will use cv=3."
   ]
  },
  {
   "cell_type": "code",
   "execution_count": 23,
   "metadata": {},
   "outputs": [],
   "source": [
    "#drop KNN because it took more than 2 days.\n",
    "tuning_clf_dict = {}\n",
    "\n",
    "for k,v in clf_dict_narrowed.items():\n",
    "    tuning_clf_dict[k] = {}\n",
    "    # Add clfs\n",
    "    tuning_clf_dict[k]['clf'] = v\n",
    "    \n",
    "# Remove KNN\n",
    "del tuning_clf_dict['K-Nearest Neighbours']\n",
    "    \n",
    "# Add Pipeline to nested dictionary\n",
    "for k in tuning_clf_dict.keys():\n",
    "    tuning_clf_dict[k]['pipeline'] = \\\n",
    "        Pipeline([ ('clf', tuning_clf_dict[k]['clf'])])\n",
    "    \n",
    "# Add param grid to nested dictionary\n",
    "\n",
    "# Add key param_grid and default empty dictionary value\n",
    "for k in tuning_clf_dict.keys():\n",
    "    tuning_clf_dict[k]['param_grid'] = {}\n",
    "\n",
    "# Reassign parameter grid to parametric classifiers\n",
    "tuning_clf_dict['Naive Bayes']['param_grid'] = MNB_params\n",
    "#tuning_clf_dict['K-Nearest Neighbours']['param_grid'] = KNN_params  \n",
    "\n",
    "# Add RandomizedSearchCV to nested dictionary\n",
    "cv = 3\n",
    "scoring = 'recall'\n",
    "\n",
    "for k in tuning_clf_dict.keys():\n",
    "    tuning_clf_dict[k]['rscv'] = RandomizedSearchCV(estimator = tuning_clf_dict[k]['pipeline'], \n",
    "                                        param_distributions = tuning_clf_dict[k]['param_grid'],\n",
    "                                        scoring = scoring,\n",
    "                                        cv = cv)\n",
    "    \n",
    "# Create new dictionary with just clf names and randomizedsearch object\n",
    "# Allows it to be passed to existing batch_clf function\n",
    "\n",
    "rscv_dict = {}\n",
    "\n",
    "for k in tuning_clf_dict.keys():\n",
    "    rscv_dict[k] = tuning_clf_dict[k]['rscv']\n",
    "\n"
   ]
  },
  {
   "cell_type": "code",
   "execution_count": 24,
   "metadata": {},
   "outputs": [
    {
     "name": "stdout",
     "output_type": "stream",
     "text": [
      "{'Naive Bayes': RandomizedSearchCV(cv=3, error_score='raise-deprecating',\n",
      "                   estimator=Pipeline(memory=None,\n",
      "                                      steps=[('clf',\n",
      "                                              MultinomialNB(alpha=1.0,\n",
      "                                                            class_prior=None,\n",
      "                                                            fit_prior=True))],\n",
      "                                      verbose=False),\n",
      "                   iid='warn', n_iter=10, n_jobs=None,\n",
      "                   param_distributions={'clf__alpha': array([0.5, 0.7, 0.9, 1.1, 1.3, 1.5]),\n",
      "                                        'clf__fit_prior': [True, False]},\n",
      "                   pre_dispatch='2*n_jobs', random_state=None, refit=True,\n",
      "                   return_train_score=False, scoring='recall', verbose=0)}\n"
     ]
    }
   ],
   "source": [
    "print(rscv_dict) "
   ]
  },
  {
   "cell_type": "code",
   "execution_count": 25,
   "metadata": {},
   "outputs": [
    {
     "name": "stdout",
     "output_type": "stream",
     "text": [
      "trained Naive Bayes in 12.2\n"
     ]
    },
    {
     "data": {
      "image/png": "[encoded data removed]",
      "text/plain": [
       "<Figure size 936x432 with 2 Axes>"
      ]
     },
     "metadata": {
      "needs_background": "light"
     },
     "output_type": "display_data"
    },
    {
     "data": {
      "text/html": [
       "<div>\n",
       "<style scoped>\n",
       "    .dataframe tbody tr th:only-of-type {\n",
       "        vertical-align: middle;\n",
       "    }\n",
       "\n",
       "    .dataframe tbody tr th {\n",
       "        vertical-align: top;\n",
       "    }\n",
       "\n",
       "    .dataframe thead th {\n",
       "        text-align: right;\n",
       "    }\n",
       "</style>\n",
       "<table border=\"1\" class=\"dataframe\">\n",
       "  <thead>\n",
       "    <tr style=\"text-align: right;\">\n",
       "      <th></th>\n",
       "      <th>Model</th>\n",
       "      <th>Time</th>\n",
       "      <th>Train Accuracy</th>\n",
       "      <th>Test Accuracy</th>\n",
       "      <th>Train F1</th>\n",
       "      <th>Test F1</th>\n",
       "      <th>Train Precision</th>\n",
       "      <th>Test Precision</th>\n",
       "      <th>Train Recall</th>\n",
       "      <th>Test Recall</th>\n",
       "    </tr>\n",
       "  </thead>\n",
       "  <tbody>\n",
       "    <tr>\n",
       "      <td>0</td>\n",
       "      <td>Naive Bayes</td>\n",
       "      <td>12.2</td>\n",
       "      <td>0.95</td>\n",
       "      <td>0.94</td>\n",
       "      <td>0.95</td>\n",
       "      <td>0.94</td>\n",
       "      <td>0.95</td>\n",
       "      <td>0.94</td>\n",
       "      <td>0.95</td>\n",
       "      <td>0.94</td>\n",
       "    </tr>\n",
       "  </tbody>\n",
       "</table>\n",
       "</div>"
      ],
      "text/plain": [
       "         Model  Time  Train Accuracy  Test Accuracy  Train F1  Test F1  \\\n",
       "0  Naive Bayes  12.2            0.95           0.94      0.95     0.94   \n",
       "\n",
       "   Train Precision  Test Precision  Train Recall  Test Recall  \n",
       "0             0.95            0.94          0.95         0.94  "
      ]
     },
     "execution_count": 25,
     "metadata": {},
     "output_type": "execute_result"
    }
   ],
   "source": [
    "rscv_results = batch_clf(X_train, y_train, X_test, y_test, rscv_dict)\n",
    "rscv_results"
   ]
  },
  {
   "cell_type": "markdown",
   "metadata": {},
   "source": [
    "# Test tunned model"
   ]
  },
  {
   "cell_type": "code",
   "execution_count": 26,
   "metadata": {},
   "outputs": [
    {
     "data": {
      "text/html": [
       "<div>\n",
       "<style scoped>\n",
       "    .dataframe tbody tr th:only-of-type {\n",
       "        vertical-align: middle;\n",
       "    }\n",
       "\n",
       "    .dataframe tbody tr th {\n",
       "        vertical-align: top;\n",
       "    }\n",
       "\n",
       "    .dataframe thead th {\n",
       "        text-align: right;\n",
       "    }\n",
       "</style>\n",
       "<table border=\"1\" class=\"dataframe\">\n",
       "  <thead>\n",
       "    <tr style=\"text-align: right;\">\n",
       "      <th></th>\n",
       "      <th>Model</th>\n",
       "      <th>Test Recall</th>\n",
       "      <th>Test Precision</th>\n",
       "    </tr>\n",
       "  </thead>\n",
       "  <tbody>\n",
       "    <tr>\n",
       "      <td>0</td>\n",
       "      <td>Naive Bayes</td>\n",
       "      <td>0.94</td>\n",
       "      <td>0.94</td>\n",
       "    </tr>\n",
       "  </tbody>\n",
       "</table>\n",
       "</div>"
      ],
      "text/plain": [
       "         Model  Test Recall  Test Precision\n",
       "0  Naive Bayes         0.94            0.94"
      ]
     },
     "execution_count": 26,
     "metadata": {},
     "output_type": "execute_result"
    }
   ],
   "source": [
    "# Get top models based on test profit\n",
    "rscv_results.sort_values('Test Recall', ascending = False)[['Model', 'Test Recall', 'Test Precision']]"
   ]
  },
  {
   "cell_type": "markdown",
   "metadata": {},
   "source": [
    "We can see that a higher cross-validation k-fold does not result in much higher accuracy. However only by a tiny bit, and the computational time for higher folds increases. When it comes time to use cv in our Grid Search section, we will use cv=6."
   ]
  },
  {
   "cell_type": "markdown",
   "metadata": {},
   "source": [
    "# Test on scarapped data"
   ]
  },
  {
   "cell_type": "code",
   "execution_count": 27,
   "metadata": {},
   "outputs": [
    {
     "name": "stdout",
     "output_type": "stream",
     "text": [
      "                                                text label\n",
      "0  Just over a week ago, the Indonesian volcano A...     1\n",
      "1  Jair Bolsonaro has announced Brazil’s “liberat...     1\n"
     ]
    }
   ],
   "source": [
    "df_guardian = pd.read_csv('the_guardian_file.csv')\n",
    "\n",
    "df_guardian = df_guardian[['text']]\n",
    "df_guardian['label'] = '1'\n",
    "target.head()\n",
    "print(df_guardian.head(2))"
   ]
  },
  {
   "cell_type": "code",
   "execution_count": 28,
   "metadata": {},
   "outputs": [
    {
     "name": "stdout",
     "output_type": "stream",
     "text": [
      "0       Just over a week ago, the Indonesian volcano A...\n",
      "1       Jair Bolsonaro has announced Brazil’s “liberat...\n",
      "2       Fears of electoral fraud are rising in the Dem...\n",
      "3       Russian emergency services have found an 11-mo...\n",
      "4       I really understood what Deborah Frances-White...\n",
      "                              ...                        \n",
      "3873    ‘It’s affecting my mental health’ I’m sure I h...\n",
      "3874    Labour MPs opposed to a second referendum are ...\n",
      "3875    There is no chance of Congress approving a US-...\n",
      "3876    In an effort to promote a no-deal Brexit, Gise...\n",
      "3877    Sadiq Khan’s support of the Fabian Society pro...\n",
      "Name: text, Length: 3878, dtype: object\n"
     ]
    }
   ],
   "source": [
    "text_guardian = df_guardian['text']\n",
    "label_guardian = df_guardian['label']\n",
    "print(text_guardian)"
   ]
  },
  {
   "cell_type": "code",
   "execution_count": 29,
   "metadata": {},
   "outputs": [
    {
     "name": "stdout",
     "output_type": "stream",
     "text": [
      "Empty DataFrame\n",
      "Columns: []\n",
      "Index: [0, 1, 2, 3, 4, 5, 6, 7, 8, 9, 10, 11, 12, 13, 14, 15, 16, 17, 18, 19, 20, 21, 22, 23, 24, 25, 26, 27, 28, 29, 30, 31, 32, 33, 34, 35, 36, 37, 38, 39, 40, 41, 42, 43, 44, 45, 46, 47, 48, 49, 50, 51, 52, 53, 54, 55, 56, 57, 58, 59, 60, 61, 62, 63, 64, 65, 66, 67, 68, 69, 70, 71, 72, 73, 74, 75, 76, 77, 78, 79, 80, 81, 82, 83, 84, 85, 86, 87, 88, 89, 90, 91, 92, 93, 94, 95, 96, 97, 98, 99, ...]\n",
      "\n",
      "[3878 rows x 0 columns]\n"
     ]
    }
   ],
   "source": [
    "label_guardian = pd.Categorical(label_guardian)\n",
    "label_guardian= pd.get_dummies(label_guardian, drop_first=True)\n",
    "print(label_guardian)"
   ]
  },
  {
   "cell_type": "code",
   "execution_count": 30,
   "metadata": {},
   "outputs": [],
   "source": [
    "clf = MultinomialNB().fit(X_train, y_train)"
   ]
  },
  {
   "cell_type": "code",
   "execution_count": 31,
   "metadata": {},
   "outputs": [
    {
     "data": {
      "text/plain": [
       "2"
      ]
     },
     "execution_count": 31,
     "metadata": {},
     "output_type": "execute_result"
    }
   ],
   "source": [
    "docs_new1 = df_guardian.text[0]\n",
    "docs_new2 = df_guardian.text[1]\n",
    "docs_new = []\n",
    "doc_list = [docs_new1, docs_new2]\n",
    "for doc in doc_list:\n",
    "    docs_new.append(doc)    \n",
    "#print(docs_new)\n",
    "len(docs_new)"
   ]
  },
  {
   "cell_type": "code",
   "execution_count": 32,
   "metadata": {},
   "outputs": [
    {
     "name": "stdout",
     "output_type": "stream",
     "text": [
      "2\n",
      "[1 1]\n"
     ]
    }
   ],
   "source": [
    "X_new_counts = count_vect.transform(docs_new)\n",
    "X_new_tfidf = tfidf_transformer.transform(X_new_counts)\n",
    "\n",
    "predicted = clf.predict(X_new_tfidf)\n",
    "print(len(predicted))\n",
    "print(predicted)\n",
    "#for doc, category in zip(docs_new, predicted):\n",
    "    #print('%r => %s' % (doc, category))"
   ]
  },
  {
   "cell_type": "code",
   "execution_count": 33,
   "metadata": {},
   "outputs": [
    {
     "data": {
      "text/plain": [
       "3878"
      ]
     },
     "execution_count": 33,
     "metadata": {},
     "output_type": "execute_result"
    }
   ],
   "source": [
    "docs_new_all = []\n",
    "for doc in df_guardian.text:\n",
    "    docs_new_all.append(doc)\n",
    "len(docs_new_all)\n",
    "    "
   ]
  },
  {
   "cell_type": "code",
   "execution_count": 34,
   "metadata": {},
   "outputs": [
    {
     "name": "stdout",
     "output_type": "stream",
     "text": [
      "3878\n",
      "[1 1 1 ... 1 1 0]\n"
     ]
    }
   ],
   "source": [
    "X_new_counts_all = count_vect.transform(docs_new_all)\n",
    "X_new_tfidf_all = tfidf_transformer.transform(X_new_counts_all)\n",
    "\n",
    "predicted_all = clf.predict(X_new_tfidf_all)\n",
    "print(len(predicted_all))\n",
    "print(predicted_all)\n",
    "#for doc, category in zip(docs_new, predicted):\n",
    "    #print('%r => %s' % (doc, category))"
   ]
  },
  {
   "cell_type": "code",
   "execution_count": 35,
   "metadata": {},
   "outputs": [
    {
     "data": {
      "text/plain": [
       "2518"
      ]
     },
     "execution_count": 35,
     "metadata": {},
     "output_type": "execute_result"
    }
   ],
   "source": [
    "predicted_list = predicted_all.tolist()\n",
    "true_count = predicted_list.count(1)\n",
    "true_count"
   ]
  },
  {
   "cell_type": "code",
   "execution_count": 36,
   "metadata": {},
   "outputs": [
    {
     "data": {
      "text/plain": [
       "64.93037648272305"
      ]
     },
     "execution_count": 36,
     "metadata": {},
     "output_type": "execute_result"
    }
   ],
   "source": [
    "percentage_true = true_count*100/len(predicted_all)\n",
    "percentage_true"
   ]
  },
  {
   "cell_type": "code",
   "execution_count": 94,
   "metadata": {},
   "outputs": [
    {
     "name": "stdout",
     "output_type": "stream",
     "text": [
      "0.6493037648272305\n"
     ]
    }
   ],
   "source": [
    "recall_score = 2518/(2518+1360)\n",
    "print(recall_score)"
   ]
  },
  {
   "cell_type": "code",
   "execution_count": 65,
   "metadata": {},
   "outputs": [],
   "source": [
    "mnb_results = {'untunned':0.93, 'tunned':0.94, 'tunned_guardian':0.65 }\n",
    "l1 =[\"Untunned Naive Bayes Model\", \"Tunned Naive Byes Model\", \"Test Tunned Naive Bayes on The Guardian\"]\n",
    "l2 =[0.93, 0.94, 0.65]"
   ]
  },
  {
   "cell_type": "code",
   "execution_count": 66,
   "metadata": {},
   "outputs": [
    {
     "data": {
      "text/html": [
       "<div>\n",
       "<style scoped>\n",
       "    .dataframe tbody tr th:only-of-type {\n",
       "        vertical-align: middle;\n",
       "    }\n",
       "\n",
       "    .dataframe tbody tr th {\n",
       "        vertical-align: top;\n",
       "    }\n",
       "\n",
       "    .dataframe thead th {\n",
       "        text-align: right;\n",
       "    }\n",
       "</style>\n",
       "<table border=\"1\" class=\"dataframe\">\n",
       "  <thead>\n",
       "    <tr style=\"text-align: right;\">\n",
       "      <th></th>\n",
       "      <th>0</th>\n",
       "      <th>1</th>\n",
       "    </tr>\n",
       "  </thead>\n",
       "  <tbody>\n",
       "    <tr>\n",
       "      <td>0</td>\n",
       "      <td>Untunned Naive Bayes Model</td>\n",
       "      <td>0.93</td>\n",
       "    </tr>\n",
       "    <tr>\n",
       "      <td>1</td>\n",
       "      <td>Tunned Naive Byes Model</td>\n",
       "      <td>0.94</td>\n",
       "    </tr>\n",
       "    <tr>\n",
       "      <td>2</td>\n",
       "      <td>Test Tunned Naive Bayes on The Guardian</td>\n",
       "      <td>0.65</td>\n",
       "    </tr>\n",
       "  </tbody>\n",
       "</table>\n",
       "</div>"
      ],
      "text/plain": [
       "                                         0     1\n",
       "0               Untunned Naive Bayes Model  0.93\n",
       "1                  Tunned Naive Byes Model  0.94\n",
       "2  Test Tunned Naive Bayes on The Guardian  0.65"
      ]
     },
     "execution_count": 66,
     "metadata": {},
     "output_type": "execute_result"
    }
   ],
   "source": [
    "df_results = pd.DataFrame(list(zip(l1, l2))) \n",
    "df_results.head()\n",
    "#df_results.columns = [['Model_name', 'Score']]"
   ]
  },
  {
   "cell_type": "code",
   "execution_count": 95,
   "metadata": {},
   "outputs": [],
   "source": [
    "df_results.columns =['Model_name', 'Score_Recall' ]"
   ]
  },
  {
   "cell_type": "code",
   "execution_count": 96,
   "metadata": {},
   "outputs": [
    {
     "data": {
      "text/html": [
       "<div>\n",
       "<style scoped>\n",
       "    .dataframe tbody tr th:only-of-type {\n",
       "        vertical-align: middle;\n",
       "    }\n",
       "\n",
       "    .dataframe tbody tr th {\n",
       "        vertical-align: top;\n",
       "    }\n",
       "\n",
       "    .dataframe thead th {\n",
       "        text-align: right;\n",
       "    }\n",
       "</style>\n",
       "<table border=\"1\" class=\"dataframe\">\n",
       "  <thead>\n",
       "    <tr style=\"text-align: right;\">\n",
       "      <th></th>\n",
       "      <th>Model_name</th>\n",
       "      <th>Score_Recall</th>\n",
       "    </tr>\n",
       "  </thead>\n",
       "  <tbody>\n",
       "    <tr>\n",
       "      <td>0</td>\n",
       "      <td>Untunned Naive Bayes Model</td>\n",
       "      <td>0.93</td>\n",
       "    </tr>\n",
       "    <tr>\n",
       "      <td>1</td>\n",
       "      <td>Tunned Naive Byes Model</td>\n",
       "      <td>0.94</td>\n",
       "    </tr>\n",
       "    <tr>\n",
       "      <td>2</td>\n",
       "      <td>Test Tunned Naive Bayes on The Guardian</td>\n",
       "      <td>0.65</td>\n",
       "    </tr>\n",
       "  </tbody>\n",
       "</table>\n",
       "</div>"
      ],
      "text/plain": [
       "                                Model_name  Score_Recall\n",
       "0               Untunned Naive Bayes Model          0.93\n",
       "1                  Tunned Naive Byes Model          0.94\n",
       "2  Test Tunned Naive Bayes on The Guardian          0.65"
      ]
     },
     "execution_count": 96,
     "metadata": {},
     "output_type": "execute_result"
    }
   ],
   "source": [
    "df_results.head()"
   ]
  },
  {
   "cell_type": "code",
   "execution_count": 98,
   "metadata": {},
   "outputs": [
    {
     "data": {
      "text/plain": [
       "Text(-1, 10, 'Tunned Model')"
      ]
     },
     "execution_count": 98,
     "metadata": {},
     "output_type": "execute_result"
    },
    {
     "data": {
      "image/png": "[encoded data removed]",
      "text/plain": [
       "<Figure size 360x360 with 1 Axes>"
      ]
     },
     "metadata": {
      "needs_background": "light"
     },
     "output_type": "display_data"
    }
   ],
   "source": [
    "#Plot scores using seaborn\n",
    "a4_dims = (11.7, 8.27)\n",
    "g = sns.catplot(x='Model_name', y='Score_Recall', kind = 'bar', data = df_results )\n",
    "\n",
    "#fig, ax = pyplot.subplots(figsize=a4_dims)\n",
    "#seaborn.catplotplot(ax=ax, data=df_results)\n",
    "g.set_xticklabels(rotation=45, ha='right')\n",
    "ax=plt.gca()\n",
    "ax.axhline(y= 0.65)\n",
    "plt.ylim(0.60, 0.95)\n",
    "plt.scatter(0, 0.65, marker='', s=100)\n",
    "plt.annotate('Model Test on The Guardian', # this is the text\n",
    "            (0,0.65), # this is the point to label\n",
    "            textcoords=\"offset points\", # how to position the text\n",
    "            xytext=(-1,10), # distance from text to points (x,y)\n",
    "            ha='center') # horizontal alignment can be left, right or center\n",
    "\n",
    "ax=plt.gca()\n",
    "ax.axhline(y= 0.94)\n",
    "plt.scatter(0, 0.94, marker='', s=100)\n",
    "plt.annotate('Tunned Model', # this is the text\n",
    "            (0,0.94), # this is the point to label\n",
    "            textcoords=\"offset points\", # how to position the text\n",
    "            xytext=(-1,10), # distance from text to points (x,y)\n",
    "            ha='center') # horizontal alignment can be left, right or center\n"
   ]
  },
  {
   "cell_type": "markdown",
   "metadata": {},
   "source": [
    "# Create a Pipeline and Cross Validate with GridSearch"
   ]
  },
  {
   "cell_type": "code",
   "execution_count": 38,
   "metadata": {},
   "outputs": [],
   "source": [
    "# Define Random State\n",
    "\n",
    "\n",
    "# Split the data into training and test sets\n",
    "X_train1, X_test1, y_train1, y_test1 = train_test_split(data, target, test_size=0.20, random_state=seed)"
   ]
  },
  {
   "cell_type": "code",
   "execution_count": 39,
   "metadata": {},
   "outputs": [],
   "source": [
    "text_clf = Pipeline([\n",
    "            ('vect', CountVectorizer()),\n",
    "            ('tfidf', TfidfTransformer()),\n",
    "            ('clf', MultinomialNB()),\n",
    "          ])"
   ]
  },
  {
   "cell_type": "code",
   "execution_count": 40,
   "metadata": {},
   "outputs": [
    {
     "data": {
      "text/plain": [
       "Pipeline(memory=None,\n",
       "         steps=[('vect',\n",
       "                 CountVectorizer(analyzer='word', binary=False,\n",
       "                                 decode_error='strict',\n",
       "                                 dtype=<class 'numpy.int64'>, encoding='utf-8',\n",
       "                                 input='content', lowercase=True, max_df=1.0,\n",
       "                                 max_features=None, min_df=1,\n",
       "                                 ngram_range=(1, 1), preprocessor=None,\n",
       "                                 stop_words=None, strip_accents=None,\n",
       "                                 token_pattern='(?u)\\\\b\\\\w\\\\w+\\\\b',\n",
       "                                 tokenizer=None, vocabulary=None)),\n",
       "                ('tfidf',\n",
       "                 TfidfTransformer(norm='l2', smooth_idf=True,\n",
       "                                  sublinear_tf=False, use_idf=True)),\n",
       "                ('clf',\n",
       "                 MultinomialNB(alpha=1.0, class_prior=None, fit_prior=True))],\n",
       "         verbose=False)"
      ]
     },
     "execution_count": 40,
     "metadata": {},
     "output_type": "execute_result"
    }
   ],
   "source": [
    "text_clf.fit(X_train1, y_train1)\n"
   ]
  },
  {
   "cell_type": "code",
   "execution_count": 41,
   "metadata": {},
   "outputs": [],
   "source": [
    "from sklearn.model_selection import GridSearchCV\n",
    "parameters = {\n",
    "         'vect__ngram_range': [(1, 1), (1, 2)],\n",
    "         'tfidf__use_idf': (True, False),\n",
    "         'clf__alpha': (1e-2, 1e-3),\n",
    "        }"
   ]
  },
  {
   "cell_type": "code",
   "execution_count": 42,
   "metadata": {},
   "outputs": [],
   "source": [
    "gs_clf = GridSearchCV(text_clf, parameters, cv=3, n_jobs=-1)"
   ]
  },
  {
   "cell_type": "code",
   "execution_count": 43,
   "metadata": {},
   "outputs": [],
   "source": [
    "gs_clf = gs_clf.fit(X_train1, y_train1)"
   ]
  },
  {
   "cell_type": "code",
   "execution_count": 44,
   "metadata": {},
   "outputs": [
    {
     "name": "stdout",
     "output_type": "stream",
     "text": [
      "clf__alpha: 0.001\n",
      "tfidf__use_idf: False\n",
      "vect__ngram_range: (1, 2)\n"
     ]
    }
   ],
   "source": [
    "gs_clf.best_score_\n",
    "\n",
    "for param_name in sorted(parameters.keys()):\n",
    "    print(\"%s: %r\" % (param_name, gs_clf.best_params_[param_name]))\n"
   ]
  },
  {
   "cell_type": "code",
   "execution_count": 45,
   "metadata": {},
   "outputs": [
    {
     "data": {
      "text/plain": [
       "{'mean_fit_time': array([14.63617659, 63.50527763, 14.36096565, 55.38424198, 16.6169428 ,\n",
       "        64.31258329, 16.02775749, 39.46401064]),\n",
       " 'std_fit_time': array([0.14387202, 0.18520098, 0.09200278, 0.3848904 , 0.10974568,\n",
       "        0.24110442, 0.09365664, 0.40982361]),\n",
       " 'mean_score_time': array([ 7.7885251 , 22.43421777,  7.76584077, 19.04196509,  8.52543958,\n",
       "        13.81979632,  7.45809102,  9.12776534]),\n",
       " 'std_score_time': array([0.01800283, 0.1220356 , 0.02985304, 0.23272857, 0.16856974,\n",
       "        0.11131379, 0.05046579, 0.02200919]),\n",
       " 'param_clf__alpha': masked_array(data=[0.01, 0.01, 0.01, 0.01, 0.001, 0.001, 0.001, 0.001],\n",
       "              mask=[False, False, False, False, False, False, False, False],\n",
       "        fill_value='?',\n",
       "             dtype=object),\n",
       " 'param_tfidf__use_idf': masked_array(data=[True, True, False, False, True, True, False, False],\n",
       "              mask=[False, False, False, False, False, False, False, False],\n",
       "        fill_value='?',\n",
       "             dtype=object),\n",
       " 'param_vect__ngram_range': masked_array(data=[(1, 1), (1, 2), (1, 1), (1, 2), (1, 1), (1, 2), (1, 1),\n",
       "                    (1, 2)],\n",
       "              mask=[False, False, False, False, False, False, False, False],\n",
       "        fill_value='?',\n",
       "             dtype=object),\n",
       " 'params': [{'clf__alpha': 0.01,\n",
       "   'tfidf__use_idf': True,\n",
       "   'vect__ngram_range': (1, 1)},\n",
       "  {'clf__alpha': 0.01, 'tfidf__use_idf': True, 'vect__ngram_range': (1, 2)},\n",
       "  {'clf__alpha': 0.01, 'tfidf__use_idf': False, 'vect__ngram_range': (1, 1)},\n",
       "  {'clf__alpha': 0.01, 'tfidf__use_idf': False, 'vect__ngram_range': (1, 2)},\n",
       "  {'clf__alpha': 0.001, 'tfidf__use_idf': True, 'vect__ngram_range': (1, 1)},\n",
       "  {'clf__alpha': 0.001, 'tfidf__use_idf': True, 'vect__ngram_range': (1, 2)},\n",
       "  {'clf__alpha': 0.001, 'tfidf__use_idf': False, 'vect__ngram_range': (1, 1)},\n",
       "  {'clf__alpha': 0.001, 'tfidf__use_idf': False, 'vect__ngram_range': (1, 2)}],\n",
       " 'split0_test_score': array([0.9430385 , 0.96976531, 0.94662992, 0.9670091 , 0.94479245,\n",
       "        0.97009939, 0.94946964, 0.97085108]),\n",
       " 'split1_test_score': array([0.94237033, 0.96767727, 0.94612879, 0.96642446, 0.94220329,\n",
       "        0.96918066, 0.94896851, 0.96993235]),\n",
       " 'split2_test_score': array([0.94361844, 0.9683428 , 0.94787838, 0.96650518, 0.94595723,\n",
       "        0.9695122 , 0.95155363, 0.97084865]),\n",
       " 'mean_test_score': array([0.94300908, 0.96859513, 0.946879  , 0.96664625, 0.94431761,\n",
       "        0.96959742, 0.94999722, 0.97054402]),\n",
       " 'std_test_score': array([0.00050996, 0.00087092, 0.00073566, 0.00025869, 0.00156888,\n",
       "        0.00037989, 0.00111936, 0.00043253]),\n",
       " 'rank_test_score': array([8, 3, 6, 4, 7, 2, 5, 1], dtype=int32)}"
      ]
     },
     "execution_count": 45,
     "metadata": {},
     "output_type": "execute_result"
    }
   ],
   "source": [
    "gs_clf.cv_results_"
   ]
  },
  {
   "cell_type": "code",
   "execution_count": 46,
   "metadata": {},
   "outputs": [],
   "source": [
    "best_text_clf = Pipeline([\n",
    "            ('vect', CountVectorizer(ngram_range = (1,2))),\n",
    "            ('tfidf', TfidfTransformer(use_idf = False)),\n",
    "            ('clf', MultinomialNB(alpha = 0.001)),\n",
    "          ])"
   ]
  },
  {
   "cell_type": "code",
   "execution_count": 47,
   "metadata": {},
   "outputs": [
    {
     "data": {
      "text/plain": [
       "Pipeline(memory=None,\n",
       "         steps=[('vect',\n",
       "                 CountVectorizer(analyzer='word', binary=False,\n",
       "                                 decode_error='strict',\n",
       "                                 dtype=<class 'numpy.int64'>, encoding='utf-8',\n",
       "                                 input='content', lowercase=True, max_df=1.0,\n",
       "                                 max_features=None, min_df=1,\n",
       "                                 ngram_range=(1, 2), preprocessor=None,\n",
       "                                 stop_words=None, strip_accents=None,\n",
       "                                 token_pattern='(?u)\\\\b\\\\w\\\\w+\\\\b',\n",
       "                                 tokenizer=None, vocabulary=None)),\n",
       "                ('tfidf',\n",
       "                 TfidfTransformer(norm='l2', smooth_idf=True,\n",
       "                                  sublinear_tf=False, use_idf=False)),\n",
       "                ('clf',\n",
       "                 MultinomialNB(alpha=0.001, class_prior=None, fit_prior=True))],\n",
       "         verbose=False)"
      ]
     },
     "execution_count": 47,
     "metadata": {},
     "output_type": "execute_result"
    }
   ],
   "source": [
    "best_text_clf.fit(X_train1, y_train1)"
   ]
  },
  {
   "cell_type": "code",
   "execution_count": 48,
   "metadata": {},
   "outputs": [],
   "source": [
    "predicted_best = best_text_clf.predict(text_guardian)"
   ]
  },
  {
   "cell_type": "code",
   "execution_count": 49,
   "metadata": {},
   "outputs": [
    {
     "data": {
      "text/plain": [
       "2599"
      ]
     },
     "execution_count": 49,
     "metadata": {},
     "output_type": "execute_result"
    }
   ],
   "source": [
    "predicted_best_list = predicted_best.tolist()\n",
    "true_count = predicted_best_list.count(1)\n",
    "true_count"
   ]
  },
  {
   "cell_type": "code",
   "execution_count": 50,
   "metadata": {},
   "outputs": [
    {
     "data": {
      "text/plain": [
       "67.01908200103146"
      ]
     },
     "execution_count": 50,
     "metadata": {},
     "output_type": "execute_result"
    }
   ],
   "source": [
    "percentage_true = true_count*100/len(predicted_best)\n",
    "percentage_true"
   ]
  },
  {
   "cell_type": "markdown",
   "metadata": {},
   "source": [
    "# Conclusions"
   ]
  },
  {
   "cell_type": "markdown",
   "metadata": {},
   "source": [
    "The model performs really well on the testing subset and not so well on the scrapped data."
   ]
  },
  {
   "cell_type": "markdown",
   "metadata": {},
   "source": [
    "# Future Work"
   ]
  },
  {
   "cell_type": "markdown",
   "metadata": {},
   "source": [
    "1. Build the K_Neighbours model to see if it performs better on the scrapped data.\n",
    "\n",
    "2. Tune the other classifiers to avoid overfitting.\n",
    "\n",
    "3. Improve the scrapped data by adding fake news articles.\n",
    "\n",
    "4. Use Glove and word2vec and GausianNB since Glove doesn't work with MultinomialNB beacause MultinomialNB works with integer values (counts), although fractional counts are also possible to use. GaussianNB can take negative values. We cannot use Bernoulli because Bernoulli only takes binary data. \n",
    "\n",
    "\n",
    "\n"
   ]
  },
  {
   "cell_type": "code",
   "execution_count": null,
   "metadata": {},
   "outputs": [],
   "source": []
  }
 ],
 "metadata": {
  "kernelspec": {
   "display_name": "Python [conda env:learn-env] *",
   "language": "python",
   "name": "conda-env-learn-env-py"
  },
  "language_info": {
   "codemirror_mode": {
    "name": "ipython",
    "version": 3
   },
   "file_extension": ".py",
   "mimetype": "text/x-python",
   "name": "python",
   "nbconvert_exporter": "python",
   "pygments_lexer": "ipython3",
   "version": "3.6.9"
  }
 },
 "nbformat": 4,
 "nbformat_minor": 2
}

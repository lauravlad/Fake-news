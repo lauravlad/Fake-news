{
 "cells": [
  {
   "cell_type": "markdown",
   "metadata": {},
   "source": [
    "<h1>Table of Contents<span class=\"tocSkip\"></span></h1>\n",
    "\n",
    "<div class=\"toc\"><ul class=\"toc-item\"><li><span><a href=\"#Introduction\" data-toc-modified-id=\"Introduction-1\"><span class=\"toc-item-num\">1&nbsp;&nbsp;</span>Introduction</a></span>\n",
    "    \n",
    "<ul class=\"toc-item\">   \n",
    "    \n",
    "<li><span><a href=\"#Dataset info\" data-toc-modified-id=\"Dataset info-1.1\"><span class=\"toc-item-num\">1.1&nbsp;&nbsp;</span>Dataset info</a></span>\n",
    "    \n",
    "</li><li><span><a href=\"#Methodology\" data-toc-modified-id=\"Methodology-1.2\"><span class=\"toc-item-num\">1.2&nbsp;&nbsp;</span>Methodology</a></span></li>\n",
    "\n",
    "<li><span><a href=\"#Goal\" data-toc-modified-id=\"Goal-1.3\"><span class=\"toc-item-num\">1.3&nbsp;&nbsp;</span>Goal</a></span>\n",
    "\n",
    "</ul></li>\n",
    "\n",
    "<li><span><a href=\"#Import-Packages-&amp;-Data\" data-toc-modified-id=\"Import-Packages-&amp;-Data-2\"><span class=\"toc-item-num\">2&nbsp;&nbsp;</span>Import Packages &amp; Data</a></span><ul class=\"toc-item\"><li><span><a href=\"#Import-Packages\" data-toc-modified-id=\"Import-Packages-2.1\"><span class=\"toc-item-num\">2.1&nbsp;&nbsp;</span>Import Packages</a></span></li><li><span><a href=\"#Import-Data\" data-toc-modified-id=\"Import-Data-2.2\"><span class=\"toc-item-num\">2.2&nbsp;&nbsp;</span>Import Data</a></span></li></ul></li>\n",
    "\n",
    "<li><span><a href=\"#Data Analysis and Visualizations\" data-toc-modified-id=\"Data Analysis and Visualizations-3\"><span class=\"toc-item-num\">3&nbsp;&nbsp;</span>Data Analysis and Visualizations</a></span>\n",
    "    \n",
    "<li><span><a href=\"#Categorical Data\" data-toc-modified-id=\"Categorical Data-3.1\"><span class=\"toc-item-num\">3.1&nbsp;&nbsp;</span>Categorical Data</a></span>\n",
    "    \n",
    "<ul class=\"toc-item\"><li><span><a href=\"#Target\" data-toc-modified-id=\"Target-3.1.1\"><span class=\"toc-item-num\">3.1.1&nbsp;&nbsp;</span>Target</a></span></li>\n",
    "\n",
    "<li><span><a href=\"#Exercise Induced Chest Pain\" data-toc-modified-id=\"Exercise Induced Chest Pain-3.1.2\"><span class=\"toc-item-num\">3.1.2&nbsp;&nbsp;</span>Exercise Induced Chest Pain</a></span></li>\n",
    "\n",
    "\n",
    "<li><span><a href=\"#Sex\" data-toc-modified-id=\"Sex-3.1.3\"><span class=\"toc-item-num\">3.1.3&nbsp;&nbsp;</span>Sex</a></span></li>\n",
    "\n",
    "\n",
    "<li><span><a href=\"#Chest Pain\" data-toc-modified-id=\"Chest Pain-3.1.4\"><span class=\"toc-item-num\">3.4.3&nbsp;&nbsp;</span>Chest Pain</a></span></li>\n",
    "\n",
    "<li><span><a href=\"#Fasting Blood Sugar\" data-toc-modified-id=\"Fasting Blood Sugar-3.4.3\"><span class=\"toc-item-num\">3.1.4&nbsp;&nbsp;</span>Fasting Blood Sugar</a></span></li>\n",
    "\n",
    "<li><span><a href=\"#Resting Electocardiographic Results\" data-toc-modified-id=\"Resting Electocardiographic Results-3.1.5\"><span class=\"toc-item-num\">3.1.5&nbsp;&nbsp;</span>Resting Electocardiographic Results</a></span></li>\n",
    "\n",
    "<li><span><a href=\"#Slope\" data-toc-modified-id=\"Slope-3.1.6\"><span class=\"toc-item-num\">3.1.6&nbsp;&nbsp;</span>Slope</a></span></li>\n",
    "\n",
    "<li><span><a href=\"#Number of Blood Vessels\" data-toc-modified-id=\"Number of Blood Vessels-3.1.7\"><span class=\"toc-item-num\">3.1.7&nbsp;&nbsp;</span>Number of Blood Vessels</a></span></li>\n",
    "\n",
    "\n",
    "<li><span><a href=\"#Thalium\" data-toc-modified-id=\"Thalium-3.1.8\"><span class=\"toc-item-num\">3.1.8&nbsp;&nbsp;</span>Thalium</a></span></li>\n",
    "\n",
    "</ul></li>\n",
    "\n",
    "<li><span><a href=\"#Continuous Data\" data-toc-modified-id=\"Continuous Data-3.2\"><span class=\"toc-item-num\">3.2&nbsp;&nbsp;</span>Continuous Data</a></span>\n",
    "    \n",
    "<ul class=\"toc-item\"><li><span><a href=\"#Age\" data-toc-modified-id=\"Age-3.2.1\"><span class=\"toc-item-num\">3.2.1&nbsp;&nbsp;</span>Age</a></span></li>\n",
    "    \n",
    "<li><span><a href=\"#Resting Blood Pressure\" data-toc-modified-id=\"Resting Blood Pressure-3.2.2\"><span class=\"toc-item-num\">3.2.2&nbsp;&nbsp;</span>Resting Blood Pressure</a></span></li>\n",
    "\n",
    "<li><span><a href=\"#Cholesterol\" data-toc-modified-id=\"Cholesterol-3.2.3\"><span class=\"toc-item-num\">3.2.3&nbsp;&nbsp;</span>Cholesterol</a></span></li>\n",
    "\n",
    "<li><span><a href=\"#Maximum Heart Rate\" data-toc-modified-id=\"Maximum Heart Rate-3.2.4\"><span class=\"toc-item-num\">3.2.4&nbsp;&nbsp;</span>Maximum Heart Rate</a></span></li>\n",
    "\n",
    "<li><span><a href=\"#OLDPEAK \" data-toc-modified-id=\"OLDPEAK-3.2.5\"><span class=\"toc-item-num\">3.2.5&nbsp;&nbsp;</span>OLDPEAK</a></span></li></ul></li>\n",
    "\n",
    "</ul></li>\n",
    "\n",
    "<li><span><a href=\"#Pre-processing\" data-toc-modified-id=\"Pre-processing-4\"><span class=\"toc-item-num\">4&nbsp;&nbsp;</span>Pre-processing</a></span>\n",
    "    \n",
    "<ul class=\"toc-item\"><li><span><a href=\"#One-Hot-Encode-Categorical-Data\" data-toc-modified-id=\"One-Hot-Encode-Categorical-Data-4.1\"><span class=\"toc-item-num\">4.1&nbsp;&nbsp;</span>One-Hot-Encode Categorical Data</a></span></li>\n",
    "    \n",
    "<li><span><a href=\"#Normalize Continuous Data\" data-toc-modified-id=\"Normalize Continuous Data-4.2\"><span class=\"toc-item-num\">4.2&nbsp;&nbsp;</span>Normalize Continuous Data</a></span></li>\n",
    "\n",
    "<li><span><a href=\"#Feature Correlations\" data-toc-modified-id=\"Feature Correlations-4.2\"><span class=\"toc-item-num\">4.2&nbsp;&nbsp;</span>Feature Correlations</a></span></li>\n",
    "\n",
    "<li><span><a href=\"#Separate-Target-&amp;-Predictor-Variables\" data-toc-modified-id=\"Separate-Target-&amp;-Predictor-Variables-4.3\"><span class=\"toc-item-num\">4.3&nbsp;&nbsp;</span>Separate-Target-&amp;-Predictor-Variables</a></span></li></ul></li>\n",
    "\n",
    "\n",
    "<li><span><a href=\"#Baseline-Models\" data-toc-modified-id=\"Baseline-Models-5\"><span class=\"toc-item-num\">5&nbsp;&nbsp;</span>Baseline Models</a></span>\n",
    "    \n",
    "<ul class=\"toc-item\">\n",
    "    \n",
    "<li><span><a href=\"#Instantiate-Classifiers\" data-toc-modified-id=\"Instantiate-Classifiers-5.1\"><span class=\"toc-item-num\">5.1&nbsp;&nbsp;</span>Instantiate Classifiers</a></span></li>\n",
    "\n",
    "<li><span><a href=\"#Fit and Predict\" data-toc-modified-id=\"Fit and Predict-5.2\"><span class=\"toc-item-num\">5.2&nbsp;&nbsp;</span>Fit and Predict</a></span></li>\n",
    "\n",
    "\n",
    "<li><span><a href=\"#Classification-Reports\" data-toc-modified-id=\"Classification-Reports-5.3\"><span class=\"toc-item-num\">5.3&nbsp;&nbsp;</span>Classification Reports</a></span></li>\n",
    "\n",
    "<li><span><a href=\"#ROC-Curves\" data-toc-modified-id=\"ROC-Curves-5.4\"><span class=\"toc-item-num\">5.4&nbsp;&nbsp;</span>ROC Curves</a></span></li>\n",
    "\n",
    "<li><span><a href=\"#Accuracy-Scores\" data-toc-modified-id=\"Accuracy-Scores-5.=5\"><span class=\"toc-item-num\">5.5&nbsp;&nbsp;</span>Accuracy Scores</a></span></li>\n",
    "\n",
    "<li><span><a href=\"#Cross-validation\" data-toc-modified-id=\"Cross-validation-5.6\"><span class=\"toc-item-num\">5.6&nbsp;&nbsp;</span>Cross-validation</a></span></li>\n",
    "\n",
    "</ul></li>\n",
    "\n",
    "<li><span><a href=\"#Hyperparameter-Tuning\" data-toc-modified-id=\"Hyperparameter-Tuning-6\"><span class=\"toc-item-num\">6&nbsp;&nbsp;</span>Hyperparameter Tuning</a></span>\n",
    "    \n",
    "<ul class=\"toc-item\"><li><span><a href=\"#Parameters\" data-toc-modified-id=\"Parameters-6.1\"><span class=\"toc-item-num\">6.1&nbsp;&nbsp;</span>Parameters</a></span></li>\n",
    "    \n",
    "<li><span><a href=\"#Grid-Search\" data-toc-modified-id=\"Grid-Search-6.2\"><span class=\"toc-item-num\">6.2&nbsp;&nbsp;</span>Grid Search</a></span></li></ul></li>\n",
    "\n",
    "<li><span><a href=\"#Tuned-Model\" data-toc-modified-id=\"Tuned-Model-7\"><span class=\"toc-item-num\">7&nbsp;&nbsp;</span>Tuned Model</a></span>\n",
    "    \n",
    "<ul class=\"toc-item\">\n",
    "    \n",
    "<li><span><a href=\"#Instantiate-Classifier\" data-toc-modified-id=\"Instantiate-Classifier-7.1\"><span class=\"toc-item-num\">7.1&nbsp;&nbsp;</span>Instantiate Classifier</a></span></li>\n",
    "\n",
    "<li><span><a href=\"#Fit-&amp;-Predict\" data-toc-modified-id=\"Fit-&amp;-Predict-7.2\"><span class=\"toc-item-num\">7.2&nbsp;&nbsp;</span>Fit &amp; Predict</a></span></li>\n",
    "\n",
    "\n",
    "<li><span><a href=\"#ROC-Curves\" data-toc-modified-id=\"ROC-Curves-7.3\"><span class=\"toc-item-num\">7.3&nbsp;&nbsp;</span>ROC Curves</a></span></li>\n",
    "\n",
    "<li><span><a href=\"#Recall-Score\" data-toc-modified-id=\"Recall-Score-7.4\"><span class=\"toc-item-num\">7.4&nbsp;&nbsp;</span>Recall Score</a></span>\n",
    "\n",
    "</li><li><span><a href=\"#Logistic Regression Feature-Importance\" data-toc-modified-id=\"Logistic Regression Feature-Importance-7.7\"><span class=\"toc-item-num\">7.7&nbsp;&nbsp;</span>Logistic Regression Feature-Importance</a></span>\n",
    "    \n",
    "</ul></li>\n",
    "    \n",
    "\n",
    "\n",
    "<li><span><a href=\"#Conclusion\" data-toc-modified-id=\"Conclusion-8\"><span class=\"toc-item-num\">8&nbsp;&nbsp;</span>Conclusion</a></span>\n",
    "    \n",
    "\n",
    "<li><span><a href=\"#Recommendations\" data-toc-modified-id=\"Recommendations-9\"><span class=\"toc-item-num\">9&nbsp;&nbsp;</span>Recommendations</a></span>\n",
    "    \n",
    "\n",
    "<li><span><a href=\"#Future-Work\" data-toc-modified-id=\"Future-Work-10\"><span class=\"toc-item-num\">10&nbsp;&nbsp;</span>Future Work</a></span></li>\n",
    "\n",
    "<li><span><a href=\"#References\" data-toc-modified-id=\"References-11\"><span class=\"toc-item-num\">11&nbsp;&nbsp;</span>References</a></span></li></ul></div>"
   ]
  },
  {
   "cell_type": "markdown",
   "metadata": {},
   "source": [
    "## Introduction"
   ]
  },
  {
   "cell_type": "markdown",
   "metadata": {},
   "source": [
    "### Dataset Info"
   ]
  },
  {
   "cell_type": "markdown",
   "metadata": {},
   "source": [
    "Cardiovascular disease describes a range of conditions that affect your heart and blood vessels. Diseases under the heart disease umbrella include blood vessel diseases, such as coronary artery disease; heart rhythm problems (arrhythmias); and heart defects you're born with (congenital heart defects), among others. Cardiovascular disease refers to diseases involving blockage or narrowing of major blood vessels and it can lead to heart attacks, angina and stroke. The main cause for blood vessels' narrowing and blockages is the build up of plaque or artheroma. Main symptom for heart attacks is chest pain. The most important risk factors for cardiovascular disease are: smoking, alchohol drinking, high cholesterol and diabetes.\n",
    "\n",
    "The dataset for this analysis can be found <a href=\"https://archive.ics.uci.edu/ml/datasets/Heart+Disease\">here </a>\n",
    "\n",
    "This dataset contains only the patients from Cleveland.\n",
    "\n",
    "Complete attribute documentation:\n",
    "\n",
    "1. age: age in years\n",
    "\n",
    "2. sex: sex (1 = male; 0 = female)\n",
    "\n",
    "3. cp: chest pain type\n",
    "\n",
    "-- Value 1: typical angina (Typical (classic) angina chest pain consists of\n",
    "(a) Substernal chest pain or discomfort that is \n",
    "(b) Provoked by exertion or emotional stress and \n",
    "(c) relieved by rest or nitroglycerine (or both).\n",
    "\n",
    "-- Value 2: atypical angina (Atypical (probable) angina chest pain applies when 2 out of 3 criteria of classic angina are present.)\n",
    "\n",
    "-- Value 3: non-anginal pain\n",
    "\n",
    "-- Value 4: asymptomatic\n",
    "\n",
    "4. trestbps: resting blood pressure (in mm Hg on admission to the hospital)\n",
    "\n",
    "5. chol: serum cholestoral in mg/dl\n",
    "\n",
    "6. fbs: (fasting blood sugar > 120 mg/dl) (1 = true; 0 = false)\n",
    "\n",
    "7. restecg: resting electrocardiographic results\n",
    "-- Value 0: normal\n",
    "-- Value 1: having ST-T wave abnormality (T wave inversions and/or ST elevation or depression of > 0.05 mV)\n",
    "-- Value 2: showing probable or definite left ventricular hypertrophy by Estes' criteria\n",
    "\n",
    "8. thalach: maximum heart rate achieved\n",
    "\n",
    "9. exang: exercise induced angina (1 = yes; 0 = no)\n",
    "\n",
    "10. oldpeak = ST depression induced by exercise relative to rest\n",
    "\n",
    "11. slope: the slope of the peak exercise ST segment\n",
    "-- Value 1: upsloping\n",
    "-- Value 2: flat\n",
    "-- Value 3: downsloping\n",
    "12. ca: number of major vessels (0-3) colored by flourosopy\n",
    "\n",
    "13. Thalium stress test result (normal, fixed defect, or reversible defect)\n",
    "\n",
    "\"Cold spots on the scan, where no thallium shows up, indicate areas of the heart that are not getting an adequate supply of blood. Cold spots appearing both at rest and during exercise may indicate areas where the heart tissue has been damaged. However, 'reversible' cold spots appearing only during exercise usually indicate some blockage of the coronary arteries.\"\n",
    "HealthLine Contributors (2019). Thallium stress test. [online] HealthLine. Available at: https://www.healthline.com/health/thallium-stress-test [Accessed 2019-03-07].\n",
    "\n",
    "14. num: diagnosis of heart disease (angiographic disease status)\n",
    "\n",
    "-- Value 0: < 50% diameter narrowing \n",
    "\n",
    "-- Value 1: > 50% diameter narrowing\n",
    "(in any major blood vessel)\n",
    "\n",
    "The authors of the databases have requested:\n",
    "\n",
    "      ...that any publications resulting from the use of the data include the \n",
    "      names of the principal investigator responsible for the data collection\n",
    "      at each institution.  They would be:\n",
    "\n",
    "       1. Hungarian Institute of Cardiology. Budapest: Andras Janosi, M.D.\n",
    "       2. University Hospital, Zurich, Switzerland: William Steinbrunn, M.D.\n",
    "       3. University Hospital, Basel, Switzerland: Matthias Pfisterer, M.D.\n",
    "       4. V.A. Medical Center, Long Beach and Cleveland Clinic Foundation:\n",
    "\t  Robert Detrano, M.D., Ph.D.\n"
   ]
  },
  {
   "cell_type": "markdown",
   "metadata": {},
   "source": [
    "### Methodology"
   ]
  },
  {
   "cell_type": "markdown",
   "metadata": {},
   "source": [
    "We will adopt the OSEMiN data science workflow following the steps below:\n",
    "\n",
    "Obtain (import the data)\n",
    "\n",
    "Scrub (clean the data, deal with missing values and data types)\n",
    "\n",
    "Explore (answer descriptives questions using EDA)\n",
    "\n",
    "Model (build our predictive model)\n",
    "\n",
    "Interpret (comment on our model and findings)\n",
    "\n",
    "Having a machine learning model that can predict if a patient has or does not have heart disease could potentially save time in diagnosing the patient and may reduce the likelihood of a misclassification when used in conjunction with the doctor. This analysis will look at six different machine learning techniques."
   ]
  },
  {
   "cell_type": "markdown",
   "metadata": {},
   "source": [
    "### Goal"
   ]
  },
  {
   "cell_type": "markdown",
   "metadata": {},
   "source": [
    "Since none of the thirteen features can predict with accuracy if a person will have heart dissease or not, having a model that will make a valid prediction taking into consideration all of the features involved, could be potentialy usefull for a cardiologist that want to have a fast result  to either refer the pacient for further investigations or start a treatment."
   ]
  },
  {
   "cell_type": "markdown",
   "metadata": {},
   "source": [
    "## Import packages & Data"
   ]
  },
  {
   "cell_type": "markdown",
   "metadata": {},
   "source": [
    "### Import packages"
   ]
  },
  {
   "cell_type": "code",
   "execution_count": 1,
   "metadata": {},
   "outputs": [
    {
     "name": "stderr",
     "output_type": "stream",
     "text": [
      "/Users/lauravlad/opt/anaconda3/envs/learn-env/lib/python3.6/site-packages/sklearn/externals/six.py:31: DeprecationWarning: The module is deprecated in version 0.21 and will be removed in version 0.23 since we've dropped support for Python 2.7. Please rely on the official version of six (https://pypi.org/project/six/).\n",
      "  \"(https://pypi.org/project/six/).\", DeprecationWarning)\n"
     ]
    }
   ],
   "source": [
    "import numpy as np\n",
    "import pandas as pd\n",
    "\n",
    "import matplotlib.pyplot as plt\n",
    "import seaborn as sns\n",
    "chosen_palette = 'Accent'\n",
    "%matplotlib inline\n",
    "\n",
    "from sklearn.model_selection import train_test_split\n",
    "from sklearn.model_selection import cross_val_score\n",
    "from sklearn.model_selection import GridSearchCV, RandomizedSearchCV\n",
    "\n",
    "from sklearn.preprocessing import OrdinalEncoder, OneHotEncoder, StandardScaler\n",
    "#from sklearn.impute import SimpleImputer, KNNImputer\n",
    "\n",
    "from sklearn.base import BaseEstimator, TransformerMixin\n",
    "from sklearn.compose import ColumnTransformer\n",
    "\n",
    "from sklearn.linear_model import LogisticRegression\n",
    "from sklearn.tree import DecisionTreeClassifier \n",
    "from sklearn.ensemble import RandomForestClassifier, AdaBoostClassifier, GradientBoostingClassifier\n",
    "from sklearn.neighbors import KNeighborsClassifier\n",
    "from sklearn.naive_bayes import MultinomialNB\n",
    "from sklearn.svm import SVC\n",
    "import xgboost as xgb\n",
    "\n",
    "\n",
    "from sklearn.metrics import roc_curve, auc, confusion_matrix, accuracy_score, f1_score, \\\n",
    "precision_score, recall_score, roc_auc_score, classification_report #plot_confusion_matrix \n",
    "\n",
    "from sklearn.metrics import make_scorer, precision_recall_curve\n",
    "\n",
    "\n",
    "from imblearn.pipeline import Pipeline\n",
    "\n",
    "# do not show any warnings\n",
    "import warnings\n",
    "warnings.filterwarnings('ignore')\n",
    "\n",
    "import time \n",
    "\n",
    "# set random state\n",
    "random_state = 0"
   ]
  },
  {
   "cell_type": "markdown",
   "metadata": {},
   "source": [
    "from sklearn.model_selection import train_test_split\n",
    "from sklearn.model_selection import cross_val_score\n",
    "from sklearn.model_selection import GridSearchCV, RandomizedSearchCV\n",
    "\n",
    "#from sklearn.preprocessing import OrdinalEncoder, OneHotEncoder, StandardScaler\n",
    "#from sklearn.impute import SimpleImputer, KNNImputer\n",
    "\n",
    "from sklearn.base import BaseEstimator, TransformerMixin\n",
    "from sklearn.compose import ColumnTransformer\n",
    "\n",
    "from sklearn.linear_model import LogisticRegression\n",
    "from sklearn.tree import DecisionTreeClassifier \n",
    "from sklearn.ensemble import RandomForestClassifier, AdaBoostClassifier, GradientBoostingClassifier\n",
    "from sklearn.neighbors import KNeighborsClassifier\n",
    "from sklearn.naive_bayes import MultinomialNB()   \n",
    "from sklearn.svm import SVC\n",
    "import xgboost as xgb\n",
    "\n",
    "\n",
    "from sklearn.metrics import roc_curve, auc, confusion_matrix, accuracy_score, f1_score, precision_score, recall_score, roc_auc_score, classification_report #plot_confusion_matrix \n",
    "\n",
    "from sklearn.metrics import make_scorer, precision_recall_curve\n",
    "\n",
    "\n",
    "from imblearn.pipeline import Pipeline\n",
    "from imblearn.over_sampling import SMOTE\n",
    "\n",
    "# do not show any warnings\n",
    "import warnings\n",
    "warnings.filterwarnings('ignore')\n",
    "\n",
    "import time \n",
    "\n",
    "# set random state\n",
    "random_state = 0"
   ]
  },
  {
   "cell_type": "markdown",
   "metadata": {},
   "source": [
    "### Import necessary libraries & packages ###\n",
    "import pandas as pd\n",
    "import numpy as np\n",
    "\n",
    "import matplotlib.pyplot as plt\n",
    "import seaborn as sns\n",
    "chosen_palette = 'Accent'\n",
    "\n",
    "%matplotlib inline\n",
    "plt.style.use('seaborn')\n",
    "\n",
    "import warnings\n",
    "warnings.filterwarnings('ignore')\n",
    "\n",
    "from statsmodels.formula.api import ols\n",
    "import statsmodels.api as sm\n",
    "import scipy.stats as stats\n",
    "from sklearn.linear_model import LogisticRegression\n",
    "from sklearn.model_selection import train_test_split\n",
    "from sklearn.model_selection import cross_val_score\n",
    "from sklearn.model_selection import GridSearchCV, RandomizedSearchCV\n",
    "\n",
    "from sklearn.tree import DecisionTreeClassifier\n",
    "from sklearn.svm import LinearSVC\n",
    "from sklearn.linear_model import LogisticRegression\n",
    "from sklearn.tree import DecisionTreeClassifier \n",
    "from sklearn.ensemble import RandomForestClassifier, AdaBoostClassifier, GradientBoostingClassifier\n",
    "from sklearn.neighbors import KNeighborsClassifier\n",
    "from sklearn.naive_bayes import MultinomialNB \n",
    "from sklearn.svm import SVC\n",
    "import xgboost as xgb\n",
    "\n",
    "#from sklearn.pipeline import Pipeline\n",
    "#from sklearn.preprocessing import MinMaxScaler, StandardScaler\n",
    "\n",
    "\n",
    "from sklearn.metrics import roc_curve, roc_auc_score, precision_score, accuracy_score, recall_score, f1_score, confusion_matrix, classification_report\n",
    "from sklearn import metrics\n",
    "# Our custom functions #\n",
    "#%run clf_functions.ipynb"
   ]
  },
  {
   "cell_type": "markdown",
   "metadata": {},
   "source": [
    "### Import Data"
   ]
  },
  {
   "cell_type": "code",
   "execution_count": 2,
   "metadata": {},
   "outputs": [
    {
     "data": {
      "text/html": [
       "<div>\n",
       "<style scoped>\n",
       "    .dataframe tbody tr th:only-of-type {\n",
       "        vertical-align: middle;\n",
       "    }\n",
       "\n",
       "    .dataframe tbody tr th {\n",
       "        vertical-align: top;\n",
       "    }\n",
       "\n",
       "    .dataframe thead th {\n",
       "        text-align: right;\n",
       "    }\n",
       "</style>\n",
       "<table border=\"1\" class=\"dataframe\">\n",
       "  <thead>\n",
       "    <tr style=\"text-align: right;\">\n",
       "      <th></th>\n",
       "      <th>text</th>\n",
       "      <th>label</th>\n",
       "    </tr>\n",
       "  </thead>\n",
       "  <tbody>\n",
       "    <tr>\n",
       "      <td>0</td>\n",
       "      <td>WASHINGTON (Reuters) - The head of a conservat...</td>\n",
       "      <td>true</td>\n",
       "    </tr>\n",
       "    <tr>\n",
       "      <td>1</td>\n",
       "      <td>WASHINGTON (Reuters) - Transgender people will...</td>\n",
       "      <td>true</td>\n",
       "    </tr>\n",
       "  </tbody>\n",
       "</table>\n",
       "</div>"
      ],
      "text/plain": [
       "                                                text label\n",
       "0  WASHINGTON (Reuters) - The head of a conservat...  true\n",
       "1  WASHINGTON (Reuters) - Transgender people will...  true"
      ]
     },
     "execution_count": 2,
     "metadata": {},
     "output_type": "execute_result"
    }
   ],
   "source": [
    "#import dataset to use the columns \n",
    "#load the data and turn it into a dataframe.\n",
    "df_true = pd.read_csv('True.csv')\n",
    "df_true.columns\n",
    "\n",
    "#df_true = df_true[['label', 'Clean_text']]\n",
    "df_true['label'] = 'true'\n",
    "df_true = df_true[['text','label']]\n",
    "df_true.head(2)\n",
    "#print(df_true['text'][0])"
   ]
  },
  {
   "cell_type": "code",
   "execution_count": 3,
   "metadata": {},
   "outputs": [],
   "source": [
    "#load the data and turn it into a dataframe.\n",
    "df_fake = pd.read_csv('Fake.csv')\n",
    "df_fake.columns\n",
    "\n",
    "#df_true = df_true[['label', 'Clean_text']]\n",
    "df_fake['label'] = 'fake'\n",
    "df_fake = df_fake[['text','label']]\n",
    "#print(df_fake.text[0])"
   ]
  },
  {
   "cell_type": "code",
   "execution_count": 4,
   "metadata": {},
   "outputs": [
    {
     "data": {
      "text/plain": [
       "44898"
      ]
     },
     "execution_count": 4,
     "metadata": {},
     "output_type": "execute_result"
    }
   ],
   "source": [
    "df = pd.concat([df_fake, df_true], axis = 0, ignore_index=True )\n",
    "df.reset_index()\n",
    "len(df)\n",
    "#print(df.text[0][0])\n"
   ]
  },
  {
   "cell_type": "code",
   "execution_count": 62,
   "metadata": {},
   "outputs": [
    {
     "data": {
      "text/html": [
       "<div>\n",
       "<style scoped>\n",
       "    .dataframe tbody tr th:only-of-type {\n",
       "        vertical-align: middle;\n",
       "    }\n",
       "\n",
       "    .dataframe tbody tr th {\n",
       "        vertical-align: top;\n",
       "    }\n",
       "\n",
       "    .dataframe thead th {\n",
       "        text-align: right;\n",
       "    }\n",
       "</style>\n",
       "<table border=\"1\" class=\"dataframe\">\n",
       "  <thead>\n",
       "    <tr style=\"text-align: right;\">\n",
       "      <th></th>\n",
       "      <th>text</th>\n",
       "      <th>label</th>\n",
       "    </tr>\n",
       "  </thead>\n",
       "  <tbody>\n",
       "    <tr>\n",
       "      <td>0</td>\n",
       "      <td>Donald Trump just couldn t wish all Americans ...</td>\n",
       "      <td>fake</td>\n",
       "    </tr>\n",
       "    <tr>\n",
       "      <td>1</td>\n",
       "      <td>House Intelligence Committee Chairman Devin Nu...</td>\n",
       "      <td>fake</td>\n",
       "    </tr>\n",
       "    <tr>\n",
       "      <td>2</td>\n",
       "      <td>On Friday, it was revealed that former Milwauk...</td>\n",
       "      <td>fake</td>\n",
       "    </tr>\n",
       "    <tr>\n",
       "      <td>3</td>\n",
       "      <td>On Christmas day, Donald Trump announced that ...</td>\n",
       "      <td>fake</td>\n",
       "    </tr>\n",
       "    <tr>\n",
       "      <td>4</td>\n",
       "      <td>Pope Francis used his annual Christmas Day mes...</td>\n",
       "      <td>fake</td>\n",
       "    </tr>\n",
       "  </tbody>\n",
       "</table>\n",
       "</div>"
      ],
      "text/plain": [
       "                                                text label\n",
       "0  Donald Trump just couldn t wish all Americans ...  fake\n",
       "1  House Intelligence Committee Chairman Devin Nu...  fake\n",
       "2  On Friday, it was revealed that former Milwauk...  fake\n",
       "3  On Christmas day, Donald Trump announced that ...  fake\n",
       "4  Pope Francis used his annual Christmas Day mes...  fake"
      ]
     },
     "execution_count": 62,
     "metadata": {},
     "output_type": "execute_result"
    }
   ],
   "source": [
    "df.head()"
   ]
  },
  {
   "cell_type": "code",
   "execution_count": 5,
   "metadata": {},
   "outputs": [],
   "source": [
    "#Store the column that will be the target, 'Sentiment', in the variable target.\n",
    "target = df['label']\n",
    "#target.head()\n",
    "#df['text'].head(2)\n",
    "#Store the Clean_tweet column in the variable data.\n",
    "data = df['text']"
   ]
  },
  {
   "cell_type": "code",
   "execution_count": 6,
   "metadata": {},
   "outputs": [
    {
     "data": {
      "text/plain": [
       "fake    23481\n",
       "true    21417\n",
       "Name: label, dtype: int64"
      ]
     },
     "execution_count": 6,
     "metadata": {},
     "output_type": "execute_result"
    }
   ],
   "source": [
    "df.label.value_counts()"
   ]
  },
  {
   "cell_type": "markdown",
   "metadata": {},
   "source": [
    "Text preprocessing, tokenizing and filtering of stopwords are all included in CountVectorizer, which builds a dictionary of features and transforms documents to feature vectors:"
   ]
  },
  {
   "cell_type": "code",
   "execution_count": 7,
   "metadata": {},
   "outputs": [
    {
     "data": {
      "text/plain": [
       "(44898, 122002)"
      ]
     },
     "execution_count": 7,
     "metadata": {},
     "output_type": "execute_result"
    }
   ],
   "source": [
    "from sklearn.feature_extraction.text import CountVectorizer\n",
    "count_vect = CountVectorizer()\n",
    "data_counts = count_vect.fit_transform(data)\n",
    "data_counts.shape"
   ]
  },
  {
   "cell_type": "code",
   "execution_count": 8,
   "metadata": {},
   "outputs": [
    {
     "data": {
      "text/plain": [
       "10889"
      ]
     },
     "execution_count": 8,
     "metadata": {},
     "output_type": "execute_result"
    }
   ],
   "source": [
    "count_vect.vocabulary_.get(u'algorithm')"
   ]
  },
  {
   "cell_type": "code",
   "execution_count": 9,
   "metadata": {},
   "outputs": [
    {
     "data": {
      "text/plain": [
       "(44898, 122002)"
      ]
     },
     "execution_count": 9,
     "metadata": {},
     "output_type": "execute_result"
    }
   ],
   "source": [
    "from sklearn.feature_extraction.text import TfidfTransformer\n",
    "tf_transformer = TfidfTransformer(use_idf=False).fit(data_counts)\n",
    "data_tf = tf_transformer.transform(data_counts)\n",
    "data_tf.shape"
   ]
  },
  {
   "cell_type": "code",
   "execution_count": 10,
   "metadata": {},
   "outputs": [
    {
     "data": {
      "text/plain": [
       "(44898, 122002)"
      ]
     },
     "execution_count": 10,
     "metadata": {},
     "output_type": "execute_result"
    }
   ],
   "source": [
    "tfidf_transformer = TfidfTransformer()\n",
    "data_tfidf = tfidf_transformer.fit_transform(data_counts)\n",
    "data_tfidf.shape"
   ]
  },
  {
   "cell_type": "code",
   "execution_count": null,
   "metadata": {},
   "outputs": [],
   "source": []
  },
  {
   "cell_type": "code",
   "execution_count": 11,
   "metadata": {},
   "outputs": [],
   "source": [
    "target = pd.Categorical(target)"
   ]
  },
  {
   "cell_type": "code",
   "execution_count": 12,
   "metadata": {},
   "outputs": [
    {
     "data": {
      "text/html": [
       "<div>\n",
       "<style scoped>\n",
       "    .dataframe tbody tr th:only-of-type {\n",
       "        vertical-align: middle;\n",
       "    }\n",
       "\n",
       "    .dataframe tbody tr th {\n",
       "        vertical-align: top;\n",
       "    }\n",
       "\n",
       "    .dataframe thead th {\n",
       "        text-align: right;\n",
       "    }\n",
       "</style>\n",
       "<table border=\"1\" class=\"dataframe\">\n",
       "  <thead>\n",
       "    <tr style=\"text-align: right;\">\n",
       "      <th></th>\n",
       "      <th>true</th>\n",
       "    </tr>\n",
       "  </thead>\n",
       "  <tbody>\n",
       "    <tr>\n",
       "      <td>0</td>\n",
       "      <td>0</td>\n",
       "    </tr>\n",
       "    <tr>\n",
       "      <td>1</td>\n",
       "      <td>0</td>\n",
       "    </tr>\n",
       "    <tr>\n",
       "      <td>2</td>\n",
       "      <td>0</td>\n",
       "    </tr>\n",
       "    <tr>\n",
       "      <td>3</td>\n",
       "      <td>0</td>\n",
       "    </tr>\n",
       "    <tr>\n",
       "      <td>4</td>\n",
       "      <td>0</td>\n",
       "    </tr>\n",
       "  </tbody>\n",
       "</table>\n",
       "</div>"
      ],
      "text/plain": [
       "   true\n",
       "0     0\n",
       "1     0\n",
       "2     0\n",
       "3     0\n",
       "4     0"
      ]
     },
     "execution_count": 12,
     "metadata": {},
     "output_type": "execute_result"
    }
   ],
   "source": [
    "target= pd.get_dummies(target, drop_first=True)\n",
    "#target.head()"
   ]
  },
  {
   "cell_type": "code",
   "execution_count": 61,
   "metadata": {},
   "outputs": [
    {
     "data": {
      "text/html": [
       "<div>\n",
       "<style scoped>\n",
       "    .dataframe tbody tr th:only-of-type {\n",
       "        vertical-align: middle;\n",
       "    }\n",
       "\n",
       "    .dataframe tbody tr th {\n",
       "        vertical-align: top;\n",
       "    }\n",
       "\n",
       "    .dataframe thead th {\n",
       "        text-align: right;\n",
       "    }\n",
       "</style>\n",
       "<table border=\"1\" class=\"dataframe\">\n",
       "  <thead>\n",
       "    <tr style=\"text-align: right;\">\n",
       "      <th></th>\n",
       "      <th>true</th>\n",
       "    </tr>\n",
       "  </thead>\n",
       "  <tbody>\n",
       "    <tr>\n",
       "      <td>44896</td>\n",
       "      <td>1</td>\n",
       "    </tr>\n",
       "    <tr>\n",
       "      <td>44897</td>\n",
       "      <td>1</td>\n",
       "    </tr>\n",
       "  </tbody>\n",
       "</table>\n",
       "</div>"
      ],
      "text/plain": [
       "       true\n",
       "44896     1\n",
       "44897     1"
      ]
     },
     "execution_count": 61,
     "metadata": {},
     "output_type": "execute_result"
    }
   ],
   "source": [
    "target.tail(2)"
   ]
  },
  {
   "cell_type": "markdown",
   "metadata": {},
   "source": [
    "### Separate-Target-&-Predictor-Variables"
   ]
  },
  {
   "cell_type": "code",
   "execution_count": 13,
   "metadata": {},
   "outputs": [],
   "source": [
    "# Define Random State\n",
    "seed = 0\n",
    "\n",
    "# Split the data into training and test sets\n",
    "X_train, X_test, y_train, y_test = train_test_split(data_tfidf, target, test_size=0.20, random_state=seed)\n",
    "\n"
   ]
  },
  {
   "cell_type": "markdown",
   "metadata": {},
   "source": [
    "## Baseline Models"
   ]
  },
  {
   "cell_type": "markdown",
   "metadata": {},
   "source": [
    "# Accuracy Metrics\n",
    "# Less False Negatives = Higher Recall \n",
    "We have 40 true positives, 3 false negatives, 7 false positives and 24 true negatives. Not bad for our first model.\n",
    "We are interested in minimizing false negatives. If we get false positives doctors are going to investigate further and find out that these people are actually healty. On the other hand we don't want to get many false negatives, because a false negative mighte deter a doctor from oinvestigating further and the pacient might get worse without help. \n",
    "We care the most about having a high true positive rate and a low false negative rate, therefore we will be optimizing our models for recall. "
   ]
  },
  {
   "cell_type": "markdown",
   "metadata": {},
   "source": [
    "Baseline Models¶\n",
    "Create a DataFrame that contains:\n",
    "\n",
    "Our 3 initial classifiers\n",
    "Class balanced training data (X & y)\n",
    "Test data (X & y)\n",
    "Then create a function to fit our models, make predictions, calculate the accuracy scores, and return everything in a DataFrame."
   ]
  },
  {
   "cell_type": "markdown",
   "metadata": {},
   "source": [
    "### Instatiate Classifiers"
   ]
  },
  {
   "cell_type": "code",
   "execution_count": 14,
   "metadata": {},
   "outputs": [],
   "source": [
    "# Create a dictionary of classifiers\n",
    "clf_dict = {\n",
    "    'Logistic Regression': LogisticRegression(random_state = random_state),\n",
    "    'K-Nearest Neighbours': KNeighborsClassifier(),\n",
    "    'Decision Tree': DecisionTreeClassifier(random_state = random_state),\n",
    "    'Naive Bayes': MultinomialNB(),\n",
    "    #'Support Vector Classification': SVC(random_state = random_state, probability = True),\n",
    "    'Random Forrest': RandomForestClassifier(random_state = random_state),\n",
    "    'AdaBoost': AdaBoostClassifier(random_state = random_state),\n",
    "    'Gradient Boosting': GradientBoostingClassifier(random_state = random_state),\n",
    "    'XGBoost' : xgb.XGBClassifier()\n",
    "}\n"
   ]
  },
  {
   "cell_type": "code",
   "execution_count": 15,
   "metadata": {},
   "outputs": [],
   "source": [
    "\n",
    "def batch_clf(X_train, y_train, X_test, y_test, clf_dict, verbose = True):\n",
    "    '''\n",
    "    Fits a dictionary of classifiers, makes predictions, plots ROC, returns metrics\n",
    "    \n",
    "    Args:\n",
    "        X_train: {array-like, sparse matrix} of shape (n_samples, n_features) train input values\n",
    "        y_train: array-like of shape (n_samples,) train target values\n",
    "        X_test: {array-like, sparse matrix} of shape (m_samples, m_features) test input values\n",
    "        y_test: array-like of shape (m_samples,) test target values\n",
    "        clf_dict: dictionary with key name of classifier and value classifier instance\n",
    "        verbose: if True, prints time taken to fit and predict for each classifier\n",
    "        \n",
    "    Returns:\n",
    "        Results dataframe\n",
    "    '''\n",
    "    # Create empty DataFrame to store results\n",
    "    times = []\n",
    "    train_acc_scores = []\n",
    "    test_acc_scores = []\n",
    "    train_f1_scores = []\n",
    "    test_f1_scores = []\n",
    "    train_precision_scores = []\n",
    "    test_precision_scores = []\n",
    "    train_recall_scores = []\n",
    "    test_recall_scores = []\n",
    "    train_roc_data = []\n",
    "    test_roc_data = []\n",
    "    test_profit_scores = []\n",
    "    \n",
    "    # Loop through dictionary items\n",
    "    for key, clf in clf_dict.items():\n",
    "        start_time = time.clock()\n",
    "        \n",
    "        # Fit classifier\n",
    "        clf_fitted = clf.fit(X_train,y_train)\n",
    "        \n",
    "        # Get Predictions\n",
    "        train_preds = clf_fitted.predict(X_train)\n",
    "        test_preds = clf_fitted.predict(X_test)\n",
    "  \n",
    "        \n",
    "        #Get accuracy scores\n",
    "        train_acc = accuracy_score(y_train, train_preds)\n",
    "        train_acc_scores.append(round(train_acc,2))\n",
    "        test_acc = accuracy_score(y_test, test_preds)\n",
    "        test_acc_scores.append(round(test_acc,2))\n",
    "        \n",
    "        #Get F1 Scores\n",
    "        train_f1 = f1_score(y_train, train_preds)\n",
    "        train_f1_scores.append(round(train_f1,2))\n",
    "        test_f1 = f1_score(y_test, test_preds)\n",
    "        test_f1_scores.append(round(test_f1,2))\n",
    "        \n",
    "        # Get Precision Scores\n",
    "        train_precision = precision_score(y_train, train_preds)\n",
    "        train_precision_scores.append(round(train_precision,2))\n",
    "        test_precision = precision_score(y_test, test_preds)\n",
    "        test_precision_scores.append(round(test_precision,2))\n",
    "        \n",
    "        # Get Recall Scores\n",
    "        train_recall = recall_score(y_train, train_preds)\n",
    "        train_recall_scores.append(round(train_recall,2))\n",
    "        test_recall = recall_score(y_test, test_preds)\n",
    "        test_recall_scores.append(round(test_recall,2))\n",
    "        \n",
    "        # Get Probability Predictions\n",
    "        train_hat = clf_fitted.predict_proba(X_train)\n",
    "        train_proba = train_hat[:,1]\n",
    "        fpr_train, tpr_train, thresholds_train = roc_curve(y_train, train_proba)\n",
    "        train_roc_data.append([fpr_train, tpr_train, thresholds_train])\n",
    "            \n",
    "        test_hat = clf_fitted.predict_proba(X_test)\n",
    "        test_proba = test_hat[:,1]\n",
    "        fpr_test, tpr_test, thresholds_test = roc_curve(y_test, test_proba)\n",
    "        test_roc_data.append([fpr_test, tpr_test, thresholds_test])\n",
    "        \n",
    "        # Get Profit\n",
    "        \n",
    "        #best_t, best_profit = profit_threshold_optimizer(y_test, test_proba)\n",
    "        #test_profit_scores.append(best_profit)\n",
    "\n",
    "        end_time = time.clock()\n",
    "        time_elapsed = end_time - start_time\n",
    "        times.append(round(time_elapsed,2))\n",
    "        \n",
    "        if verbose:\n",
    "            print(f'trained {key} in {round(time_elapsed,2)}')\n",
    "        \n",
    "    # Create results dataframe\n",
    "    results = pd.DataFrame({'Model': list(clf_dict.keys()), \n",
    "                            'Time': times,\n",
    "                            'Train Accuracy': train_acc_scores,\n",
    "                            'Test Accuracy': test_acc_scores, \n",
    "                            'Train F1': train_f1_scores,\n",
    "                            'Test F1': test_f1_scores,\n",
    "                            'Train Precision' : train_precision_scores,\n",
    "                            'Test Precision' : test_precision_scores,\n",
    "                            'Train Recall': train_recall_scores,\n",
    "                            'Test Recall': test_recall_scores,\n",
    "                            #'Test Profit' : test_profit_scores\n",
    "                            })\n",
    "    \n",
    "   # Plot side by side ROC curve\n",
    "    fig, axes = plt.subplots(1,2, figsize = (13,6))\n",
    "    \n",
    "    for i in range(len(train_roc_data)):\n",
    "        axes[0].plot(train_roc_data[i][0], train_roc_data[i][1], lw=4, \\\n",
    "                 label= f'{list(clf_dict.keys())[i]}')\n",
    "        \n",
    "    for i in range(len(test_roc_data)):\n",
    "        axes[1].plot(test_roc_data[i][0], test_roc_data[i][1], lw=4, \\\n",
    "                 label= f'{list(clf_dict.keys())[i]}')    \n",
    "        \n",
    "    for ax in axes:\n",
    "        ax.plot([0, 1], [0, 1], color='navy', lw=2, linestyle='--')\n",
    "        ax.set_xlabel('False Positive Rate')\n",
    "        ax.set_ylabel('True Positive Rate')\n",
    "        ax.legend(loc='lower right')\n",
    "    axes[0].set_title('Receiver operating characteristic (ROC) Curve \\n Training Set')\n",
    "    axes[1].set_title('Receiver operating characteristic (ROC) Curve \\n Test Set')\n",
    "    plt.show()\n",
    "\n",
    "    return results"
   ]
  },
  {
   "cell_type": "code",
   "execution_count": 16,
   "metadata": {},
   "outputs": [
    {
     "name": "stdout",
     "output_type": "stream",
     "text": [
      "trained Logistic Regression in 7.76\n",
      "trained K-Nearest Neighbours in 427.81\n",
      "trained Decision Tree in 30.07\n",
      "trained Naive Bayes in 1.06\n",
      "trained Random Forrest in 15.7\n",
      "trained AdaBoost in 318.37\n",
      "trained Gradient Boosting in 574.04\n",
      "trained XGBoost in 126.72\n"
     ]
    },
    {
     "data": {
      "image/png": "[encoded data removed]",
      "text/plain": [
       "<Figure size 936x432 with 2 Axes>"
      ]
     },
     "metadata": {
      "needs_background": "light"
     },
     "output_type": "display_data"
    },
    {
     "data": {
      "text/html": [
       "<div>\n",
       "<style scoped>\n",
       "    .dataframe tbody tr th:only-of-type {\n",
       "        vertical-align: middle;\n",
       "    }\n",
       "\n",
       "    .dataframe tbody tr th {\n",
       "        vertical-align: top;\n",
       "    }\n",
       "\n",
       "    .dataframe thead th {\n",
       "        text-align: right;\n",
       "    }\n",
       "</style>\n",
       "<table border=\"1\" class=\"dataframe\">\n",
       "  <thead>\n",
       "    <tr style=\"text-align: right;\">\n",
       "      <th></th>\n",
       "      <th>Model</th>\n",
       "      <th>Time</th>\n",
       "      <th>Train Accuracy</th>\n",
       "      <th>Test Accuracy</th>\n",
       "      <th>Train F1</th>\n",
       "      <th>Test F1</th>\n",
       "      <th>Train Precision</th>\n",
       "      <th>Test Precision</th>\n",
       "      <th>Train Recall</th>\n",
       "      <th>Test Recall</th>\n",
       "    </tr>\n",
       "  </thead>\n",
       "  <tbody>\n",
       "    <tr>\n",
       "      <td>0</td>\n",
       "      <td>Logistic Regression</td>\n",
       "      <td>7.76</td>\n",
       "      <td>0.99</td>\n",
       "      <td>0.99</td>\n",
       "      <td>0.99</td>\n",
       "      <td>0.99</td>\n",
       "      <td>0.99</td>\n",
       "      <td>0.99</td>\n",
       "      <td>0.99</td>\n",
       "      <td>0.99</td>\n",
       "    </tr>\n",
       "    <tr>\n",
       "      <td>1</td>\n",
       "      <td>K-Nearest Neighbours</td>\n",
       "      <td>427.81</td>\n",
       "      <td>0.73</td>\n",
       "      <td>0.69</td>\n",
       "      <td>0.62</td>\n",
       "      <td>0.54</td>\n",
       "      <td>0.96</td>\n",
       "      <td>0.93</td>\n",
       "      <td>0.45</td>\n",
       "      <td>0.38</td>\n",
       "    </tr>\n",
       "    <tr>\n",
       "      <td>2</td>\n",
       "      <td>Decision Tree</td>\n",
       "      <td>30.07</td>\n",
       "      <td>1.00</td>\n",
       "      <td>1.00</td>\n",
       "      <td>1.00</td>\n",
       "      <td>1.00</td>\n",
       "      <td>1.00</td>\n",
       "      <td>1.00</td>\n",
       "      <td>1.00</td>\n",
       "      <td>1.00</td>\n",
       "    </tr>\n",
       "    <tr>\n",
       "      <td>3</td>\n",
       "      <td>Naive Bayes</td>\n",
       "      <td>1.06</td>\n",
       "      <td>0.94</td>\n",
       "      <td>0.94</td>\n",
       "      <td>0.94</td>\n",
       "      <td>0.94</td>\n",
       "      <td>0.95</td>\n",
       "      <td>0.95</td>\n",
       "      <td>0.94</td>\n",
       "      <td>0.93</td>\n",
       "    </tr>\n",
       "    <tr>\n",
       "      <td>4</td>\n",
       "      <td>Random Forrest</td>\n",
       "      <td>15.70</td>\n",
       "      <td>1.00</td>\n",
       "      <td>0.97</td>\n",
       "      <td>1.00</td>\n",
       "      <td>0.97</td>\n",
       "      <td>1.00</td>\n",
       "      <td>0.99</td>\n",
       "      <td>1.00</td>\n",
       "      <td>0.95</td>\n",
       "    </tr>\n",
       "    <tr>\n",
       "      <td>5</td>\n",
       "      <td>AdaBoost</td>\n",
       "      <td>318.37</td>\n",
       "      <td>1.00</td>\n",
       "      <td>0.99</td>\n",
       "      <td>1.00</td>\n",
       "      <td>0.99</td>\n",
       "      <td>1.00</td>\n",
       "      <td>0.99</td>\n",
       "      <td>1.00</td>\n",
       "      <td>1.00</td>\n",
       "    </tr>\n",
       "    <tr>\n",
       "      <td>6</td>\n",
       "      <td>Gradient Boosting</td>\n",
       "      <td>574.04</td>\n",
       "      <td>1.00</td>\n",
       "      <td>1.00</td>\n",
       "      <td>1.00</td>\n",
       "      <td>0.99</td>\n",
       "      <td>1.00</td>\n",
       "      <td>0.99</td>\n",
       "      <td>1.00</td>\n",
       "      <td>1.00</td>\n",
       "    </tr>\n",
       "    <tr>\n",
       "      <td>7</td>\n",
       "      <td>XGBoost</td>\n",
       "      <td>126.72</td>\n",
       "      <td>1.00</td>\n",
       "      <td>1.00</td>\n",
       "      <td>1.00</td>\n",
       "      <td>1.00</td>\n",
       "      <td>1.00</td>\n",
       "      <td>0.99</td>\n",
       "      <td>1.00</td>\n",
       "      <td>1.00</td>\n",
       "    </tr>\n",
       "  </tbody>\n",
       "</table>\n",
       "</div>"
      ],
      "text/plain": [
       "                  Model    Time  Train Accuracy  Test Accuracy  Train F1  \\\n",
       "0   Logistic Regression    7.76            0.99           0.99      0.99   \n",
       "1  K-Nearest Neighbours  427.81            0.73           0.69      0.62   \n",
       "2         Decision Tree   30.07            1.00           1.00      1.00   \n",
       "3           Naive Bayes    1.06            0.94           0.94      0.94   \n",
       "4        Random Forrest   15.70            1.00           0.97      1.00   \n",
       "5              AdaBoost  318.37            1.00           0.99      1.00   \n",
       "6     Gradient Boosting  574.04            1.00           1.00      1.00   \n",
       "7               XGBoost  126.72            1.00           1.00      1.00   \n",
       "\n",
       "   Test F1  Train Precision  Test Precision  Train Recall  Test Recall  \n",
       "0     0.99             0.99            0.99          0.99         0.99  \n",
       "1     0.54             0.96            0.93          0.45         0.38  \n",
       "2     1.00             1.00            1.00          1.00         1.00  \n",
       "3     0.94             0.95            0.95          0.94         0.93  \n",
       "4     0.97             1.00            0.99          1.00         0.95  \n",
       "5     0.99             1.00            0.99          1.00         1.00  \n",
       "6     0.99             1.00            0.99          1.00         1.00  \n",
       "7     1.00             1.00            0.99          1.00         1.00  "
      ]
     },
     "execution_count": 16,
     "metadata": {},
     "output_type": "execute_result"
    }
   ],
   "source": [
    "results = batch_clf(X_train, y_train, X_test, y_test, clf_dict)\n",
    "results"
   ]
  },
  {
   "cell_type": "code",
   "execution_count": 51,
   "metadata": {},
   "outputs": [],
   "source": [
    "# Create a dictionary of classifiers\n",
    "clf_dict_narrowed = {\n",
    "    'K-Nearest Neighbours': KNeighborsClassifier(),\n",
    "    'Naive Bayes': MultinomialNB()\n",
    "}\n"
   ]
  },
  {
   "cell_type": "code",
   "execution_count": 52,
   "metadata": {},
   "outputs": [
    {
     "name": "stdout",
     "output_type": "stream",
     "text": [
      "trained K-Nearest Neighbours in 426.62\n",
      "trained Naive Bayes in 0.77\n"
     ]
    },
    {
     "data": {
      "image/png": "[encoded data removed]",
      "text/plain": [
       "<Figure size 936x432 with 2 Axes>"
      ]
     },
     "metadata": {
      "needs_background": "light"
     },
     "output_type": "display_data"
    },
    {
     "data": {
      "text/html": [
       "<div>\n",
       "<style scoped>\n",
       "    .dataframe tbody tr th:only-of-type {\n",
       "        vertical-align: middle;\n",
       "    }\n",
       "\n",
       "    .dataframe tbody tr th {\n",
       "        vertical-align: top;\n",
       "    }\n",
       "\n",
       "    .dataframe thead th {\n",
       "        text-align: right;\n",
       "    }\n",
       "</style>\n",
       "<table border=\"1\" class=\"dataframe\">\n",
       "  <thead>\n",
       "    <tr style=\"text-align: right;\">\n",
       "      <th></th>\n",
       "      <th>Model</th>\n",
       "      <th>Time</th>\n",
       "      <th>Train Accuracy</th>\n",
       "      <th>Test Accuracy</th>\n",
       "      <th>Train F1</th>\n",
       "      <th>Test F1</th>\n",
       "      <th>Train Precision</th>\n",
       "      <th>Test Precision</th>\n",
       "      <th>Train Recall</th>\n",
       "      <th>Test Recall</th>\n",
       "    </tr>\n",
       "  </thead>\n",
       "  <tbody>\n",
       "    <tr>\n",
       "      <td>0</td>\n",
       "      <td>K-Nearest Neighbours</td>\n",
       "      <td>426.62</td>\n",
       "      <td>0.73</td>\n",
       "      <td>0.69</td>\n",
       "      <td>0.62</td>\n",
       "      <td>0.54</td>\n",
       "      <td>0.96</td>\n",
       "      <td>0.93</td>\n",
       "      <td>0.45</td>\n",
       "      <td>0.38</td>\n",
       "    </tr>\n",
       "    <tr>\n",
       "      <td>1</td>\n",
       "      <td>Naive Bayes</td>\n",
       "      <td>0.77</td>\n",
       "      <td>0.94</td>\n",
       "      <td>0.94</td>\n",
       "      <td>0.94</td>\n",
       "      <td>0.94</td>\n",
       "      <td>0.95</td>\n",
       "      <td>0.95</td>\n",
       "      <td>0.94</td>\n",
       "      <td>0.93</td>\n",
       "    </tr>\n",
       "  </tbody>\n",
       "</table>\n",
       "</div>"
      ],
      "text/plain": [
       "                  Model    Time  Train Accuracy  Test Accuracy  Train F1  \\\n",
       "0  K-Nearest Neighbours  426.62            0.73           0.69      0.62   \n",
       "1           Naive Bayes    0.77            0.94           0.94      0.94   \n",
       "\n",
       "   Test F1  Train Precision  Test Precision  Train Recall  Test Recall  \n",
       "0     0.54             0.96            0.93          0.45         0.38  \n",
       "1     0.94             0.95            0.95          0.94         0.93  "
      ]
     },
     "execution_count": 52,
     "metadata": {},
     "output_type": "execute_result"
    }
   ],
   "source": [
    "results = batch_clf(X_train, y_train, X_test, y_test, clf_dict_narrowed)\n",
    "results"
   ]
  },
  {
   "cell_type": "code",
   "execution_count": 19,
   "metadata": {},
   "outputs": [],
   "source": [
    "# Define param grid\n",
    "MNB_params = {\n",
    "    'clf__alpha': np.linspace(0.5, 1.5, 6),\n",
    "    'clf__fit_prior': [True, False]\n",
    "}\n",
    "    \n",
    "#KNN_params = {\n",
    "    #'clf__n_neighbors': [3, 5, 11, 15],\n",
    "    #'clf__weights': ['uniform', 'distance'],\n",
    "    #'clf__p': [1, 5]\n",
    "#}"
   ]
  },
  {
   "cell_type": "code",
   "execution_count": 20,
   "metadata": {},
   "outputs": [],
   "source": [
    "tuning_clf_dict = {}\n",
    "\n",
    "for k,v in clf_dict_narrowed.items():\n",
    "    tuning_clf_dict[k] = {}\n",
    "    # Add clfs\n",
    "    tuning_clf_dict[k]['clf'] = v\n",
    "    \n",
    "# Remove SVM\n",
    "del tuning_clf_dict['K-Nearest Neighbours']\n",
    "    \n",
    "# Add Pipeline to nested dictionary\n",
    "for k in tuning_clf_dict.keys():\n",
    "    tuning_clf_dict[k]['pipeline'] = \\\n",
    "        Pipeline([ ('clf', tuning_clf_dict[k]['clf'])])\n",
    "    \n",
    "# Add param grid to nested dictionary\n",
    "\n",
    "# Add key param_grid and default empty dictionary value\n",
    "for k in tuning_clf_dict.keys():\n",
    "    tuning_clf_dict[k]['param_grid'] = {}\n",
    "\n",
    "# Reassign parameter grid to parametric classifiers\n",
    "tuning_clf_dict['Naive Bayes']['param_grid'] = MNB_params\n",
    "#tuning_clf_dict['K-Nearest Neighbours']['param_grid'] = KNN_params  \n",
    "\n",
    "# Add RandomizedSearchCV to nested dictionary\n",
    "cv = 3\n",
    "scoring = 'recall'\n",
    "\n",
    "for k in tuning_clf_dict.keys():\n",
    "    tuning_clf_dict[k]['rscv'] = RandomizedSearchCV(estimator = tuning_clf_dict[k]['pipeline'], \n",
    "                                        param_distributions = tuning_clf_dict[k]['param_grid'],\n",
    "                                        scoring = scoring,\n",
    "                                        cv = cv)\n",
    "    \n",
    "# Create new dictionary with just clf names and randomizedsearch object\n",
    "# Allows it to be passed to existing batch_clf function\n",
    "\n",
    "rscv_dict = {}\n",
    "\n",
    "for k in tuning_clf_dict.keys():\n",
    "    rscv_dict[k] = tuning_clf_dict[k]['rscv']\n",
    "\n"
   ]
  },
  {
   "cell_type": "code",
   "execution_count": 21,
   "metadata": {},
   "outputs": [
    {
     "name": "stdout",
     "output_type": "stream",
     "text": [
      "trained Naive Bayes in 12.01\n"
     ]
    },
    {
     "data": {
      "image/png": "[encoded data removed]",
      "text/plain": [
       "<Figure size 936x432 with 2 Axes>"
      ]
     },
     "metadata": {
      "needs_background": "light"
     },
     "output_type": "display_data"
    },
    {
     "data": {
      "text/html": [
       "<div>\n",
       "<style scoped>\n",
       "    .dataframe tbody tr th:only-of-type {\n",
       "        vertical-align: middle;\n",
       "    }\n",
       "\n",
       "    .dataframe tbody tr th {\n",
       "        vertical-align: top;\n",
       "    }\n",
       "\n",
       "    .dataframe thead th {\n",
       "        text-align: right;\n",
       "    }\n",
       "</style>\n",
       "<table border=\"1\" class=\"dataframe\">\n",
       "  <thead>\n",
       "    <tr style=\"text-align: right;\">\n",
       "      <th></th>\n",
       "      <th>Model</th>\n",
       "      <th>Time</th>\n",
       "      <th>Train Accuracy</th>\n",
       "      <th>Test Accuracy</th>\n",
       "      <th>Train F1</th>\n",
       "      <th>Test F1</th>\n",
       "      <th>Train Precision</th>\n",
       "      <th>Test Precision</th>\n",
       "      <th>Train Recall</th>\n",
       "      <th>Test Recall</th>\n",
       "    </tr>\n",
       "  </thead>\n",
       "  <tbody>\n",
       "    <tr>\n",
       "      <td>0</td>\n",
       "      <td>Naive Bayes</td>\n",
       "      <td>12.01</td>\n",
       "      <td>0.95</td>\n",
       "      <td>0.94</td>\n",
       "      <td>0.95</td>\n",
       "      <td>0.94</td>\n",
       "      <td>0.95</td>\n",
       "      <td>0.94</td>\n",
       "      <td>0.95</td>\n",
       "      <td>0.94</td>\n",
       "    </tr>\n",
       "  </tbody>\n",
       "</table>\n",
       "</div>"
      ],
      "text/plain": [
       "         Model   Time  Train Accuracy  Test Accuracy  Train F1  Test F1  \\\n",
       "0  Naive Bayes  12.01            0.95           0.94      0.95     0.94   \n",
       "\n",
       "   Train Precision  Test Precision  Train Recall  Test Recall  \n",
       "0             0.95            0.94          0.95         0.94  "
      ]
     },
     "execution_count": 21,
     "metadata": {},
     "output_type": "execute_result"
    }
   ],
   "source": [
    "rscv_results = batch_clf(X_train, y_train, X_test, y_test, rscv_dict)\n",
    "rscv_results"
   ]
  },
  {
   "cell_type": "code",
   "execution_count": 22,
   "metadata": {},
   "outputs": [
    {
     "data": {
      "text/html": [
       "<div>\n",
       "<style scoped>\n",
       "    .dataframe tbody tr th:only-of-type {\n",
       "        vertical-align: middle;\n",
       "    }\n",
       "\n",
       "    .dataframe tbody tr th {\n",
       "        vertical-align: top;\n",
       "    }\n",
       "\n",
       "    .dataframe thead th {\n",
       "        text-align: right;\n",
       "    }\n",
       "</style>\n",
       "<table border=\"1\" class=\"dataframe\">\n",
       "  <thead>\n",
       "    <tr style=\"text-align: right;\">\n",
       "      <th></th>\n",
       "      <th>Model</th>\n",
       "      <th>Test Recall</th>\n",
       "      <th>Test Precision</th>\n",
       "    </tr>\n",
       "  </thead>\n",
       "  <tbody>\n",
       "    <tr>\n",
       "      <td>0</td>\n",
       "      <td>Naive Bayes</td>\n",
       "      <td>0.94</td>\n",
       "      <td>0.94</td>\n",
       "    </tr>\n",
       "  </tbody>\n",
       "</table>\n",
       "</div>"
      ],
      "text/plain": [
       "         Model  Test Recall  Test Precision\n",
       "0  Naive Bayes         0.94            0.94"
      ]
     },
     "execution_count": 22,
     "metadata": {},
     "output_type": "execute_result"
    }
   ],
   "source": [
    "# Get top models based on test profit\n",
    "rscv_results.sort_values('Test Recall', ascending = False)[['Model', 'Test Recall', 'Test Precision']]"
   ]
  },
  {
   "cell_type": "code",
   "execution_count": null,
   "metadata": {},
   "outputs": [],
   "source": []
  },
  {
   "cell_type": "code",
   "execution_count": null,
   "metadata": {},
   "outputs": [],
   "source": []
  },
  {
   "cell_type": "code",
   "execution_count": null,
   "metadata": {},
   "outputs": [],
   "source": []
  },
  {
   "cell_type": "code",
   "execution_count": null,
   "metadata": {},
   "outputs": [],
   "source": []
  },
  {
   "cell_type": "code",
   "execution_count": null,
   "metadata": {},
   "outputs": [],
   "source": []
  },
  {
   "cell_type": "markdown",
   "metadata": {},
   "source": [
    "### Fit and Predict"
   ]
  },
  {
   "cell_type": "markdown",
   "metadata": {},
   "source": [
    "### Cross-validation"
   ]
  },
  {
   "cell_type": "markdown",
   "metadata": {},
   "source": [
    "In cross-validations or K-folds, you split the data in k subsets, in our case (3,6,10), you train the model in all but one subset, and evaluate the model on the subset you haven't used. This operation is repeated k times for each one of the diffrent k subsets.  "
   ]
  },
  {
   "cell_type": "code",
   "execution_count": 24,
   "metadata": {},
   "outputs": [
    {
     "name": "stdout",
     "output_type": "stream",
     "text": [
      "Mean Cross Validation Score for cv=3: 93.54%\n",
      "Mean Cross Validation Score for cv=6: 93.67%\n",
      "Mean Cross Validation Score for cv=10: 93.67%\n"
     ]
    }
   ],
   "source": [
    "cv_vals = [3,6,10]\n",
    "\n",
    "for cv_val in cv_vals:\n",
    "    mnb_clf = MultinomialNB()\n",
    "    mean_cv_score = np.mean(cross_val_score(mnb_clf, \n",
    "                                               X_train, \n",
    "                                               y_train, \n",
    "                                               cv=cv_val))\n",
    "\n",
    "    print(f\"Mean Cross Validation Score for cv={cv_val}: { mean_cv_score :.2%}\")"
   ]
  },
  {
   "cell_type": "code",
   "execution_count": null,
   "metadata": {},
   "outputs": [],
   "source": []
  },
  {
   "cell_type": "markdown",
   "metadata": {},
   "source": [
    "We can see that a higher cross-validation k-fold does not result in higher accuracy. However only by a tiny bit, and the computational time for higher folds increases. When it comes time to use cv in our Grid Search section, we will use cv=6."
   ]
  },
  {
   "cell_type": "markdown",
   "metadata": {},
   "source": [
    "### Hyperparameter Tuning"
   ]
  },
  {
   "cell_type": "markdown",
   "metadata": {},
   "source": [
    "\n",
    "We're now going to tune the hyperparameters of our models. We can see that Bagging, Random Forest and XG Boost are overfitting. We will conduct a grid search using GridSearchCV for each classifier.\n",
    "\n",
    "We will also use 6 folds for crossvalidation, since we saw before that while higher folds did improve model accuracy scores, it did so at a very small rate (less than 1% from cv=6 to cv=10). Since more folds are computationally costly and therefore take significantly longer to process, we will stick with 6 folds."
   ]
  },
  {
   "cell_type": "code",
   "execution_count": 71,
   "metadata": {},
   "outputs": [
    {
     "name": "stdout",
     "output_type": "stream",
     "text": [
      "                                                text label\n",
      "0  Just over a week ago, the Indonesian volcano A...     1\n",
      "1  Jair Bolsonaro has announced Brazil’s “liberat...     1\n"
     ]
    }
   ],
   "source": [
    "df_guardian = pd.read_csv('the_guardian_file.csv')\n",
    "\n",
    "df_guardian = df_guardian[['text']]\n",
    "df_guardian['label'] = '1'\n",
    "target.head()\n",
    "print(df_guardian.head(2))"
   ]
  },
  {
   "cell_type": "code",
   "execution_count": 73,
   "metadata": {},
   "outputs": [
    {
     "name": "stdout",
     "output_type": "stream",
     "text": [
      "0       Just over a week ago, the Indonesian volcano A...\n",
      "1       Jair Bolsonaro has announced Brazil’s “liberat...\n",
      "2       Fears of electoral fraud are rising in the Dem...\n",
      "3       Russian emergency services have found an 11-mo...\n",
      "4       I really understood what Deborah Frances-White...\n",
      "                              ...                        \n",
      "3873    ‘It’s affecting my mental health’ I’m sure I h...\n",
      "3874    Labour MPs opposed to a second referendum are ...\n",
      "3875    There is no chance of Congress approving a US-...\n",
      "3876    In an effort to promote a no-deal Brexit, Gise...\n",
      "3877    Sadiq Khan’s support of the Fabian Society pro...\n",
      "Name: text, Length: 3878, dtype: object\n"
     ]
    }
   ],
   "source": [
    "text_guardian = df_guardian['text']\n",
    "label_guardian = df_guardian['label']\n",
    "print(text_guardian)"
   ]
  },
  {
   "cell_type": "code",
   "execution_count": 59,
   "metadata": {},
   "outputs": [
    {
     "name": "stdout",
     "output_type": "stream",
     "text": [
      "Empty DataFrame\n",
      "Columns: []\n",
      "Index: []\n"
     ]
    }
   ],
   "source": [
    "label_guardian = pd.Categorical(label_guardian)\n",
    "label_guardian= pd.get_dummies(label_guardian, drop_first=True)\n",
    "print(label_guardian)"
   ]
  },
  {
   "cell_type": "code",
   "execution_count": 34,
   "metadata": {},
   "outputs": [],
   "source": [
    "clf = MultinomialNB().fit(X_train, y_train)"
   ]
  },
  {
   "cell_type": "code",
   "execution_count": 36,
   "metadata": {},
   "outputs": [
    {
     "data": {
      "text/plain": [
       "2"
      ]
     },
     "execution_count": 36,
     "metadata": {},
     "output_type": "execute_result"
    }
   ],
   "source": [
    "docs_new1 = df_guardian.text[0]\n",
    "docs_new2 = df_guardian.text[1]\n",
    "docs_new = []\n",
    "doc_list = [docs_new1, docs_new2]\n",
    "for doc in doc_list:\n",
    "    docs_new.append(doc)    \n",
    "#print(docs_new)\n",
    "len(docs_new)"
   ]
  },
  {
   "cell_type": "code",
   "execution_count": 38,
   "metadata": {},
   "outputs": [
    {
     "name": "stdout",
     "output_type": "stream",
     "text": [
      "2\n",
      "[1 1]\n"
     ]
    }
   ],
   "source": [
    "X_new_counts = count_vect.transform(docs_new)\n",
    "X_new_tfidf = tfidf_transformer.transform(X_new_counts)\n",
    "\n",
    "predicted = clf.predict(X_new_tfidf)\n",
    "print(len(predicted))\n",
    "print(predicted)\n",
    "#for doc, category in zip(docs_new, predicted):\n",
    "    #print('%r => %s' % (doc, category))"
   ]
  },
  {
   "cell_type": "code",
   "execution_count": 39,
   "metadata": {},
   "outputs": [
    {
     "data": {
      "text/plain": [
       "3878"
      ]
     },
     "execution_count": 39,
     "metadata": {},
     "output_type": "execute_result"
    }
   ],
   "source": [
    "docs_new_all = []\n",
    "for doc in df_guardian.text:\n",
    "    docs_new_all.append(doc)\n",
    "len(docs_new_all)\n",
    "    "
   ]
  },
  {
   "cell_type": "code",
   "execution_count": 41,
   "metadata": {},
   "outputs": [
    {
     "name": "stdout",
     "output_type": "stream",
     "text": [
      "3878\n",
      "[1 1 1 ... 1 1 0]\n"
     ]
    }
   ],
   "source": [
    "X_new_counts_all = count_vect.transform(docs_new_all)\n",
    "X_new_tfidf_all = tfidf_transformer.transform(X_new_counts_all)\n",
    "\n",
    "predicted_all = clf.predict(X_new_tfidf_all)\n",
    "print(len(predicted_all))\n",
    "print(predicted_all)\n",
    "#for doc, category in zip(docs_new, predicted):\n",
    "    #print('%r => %s' % (doc, category))"
   ]
  },
  {
   "cell_type": "code",
   "execution_count": 43,
   "metadata": {},
   "outputs": [
    {
     "data": {
      "text/plain": [
       "2518"
      ]
     },
     "execution_count": 43,
     "metadata": {},
     "output_type": "execute_result"
    }
   ],
   "source": [
    "predicted_list = predicted_all.tolist()\n",
    "true_count = predicted_list.count(1)\n",
    "true_count"
   ]
  },
  {
   "cell_type": "code",
   "execution_count": 44,
   "metadata": {},
   "outputs": [
    {
     "data": {
      "text/plain": [
       "64.93037648272305"
      ]
     },
     "execution_count": 44,
     "metadata": {},
     "output_type": "execute_result"
    }
   ],
   "source": [
    "percentage_true = true_count*100/len(predicted_all)\n",
    "percentage_true"
   ]
  },
  {
   "cell_type": "code",
   "execution_count": 45,
   "metadata": {},
   "outputs": [],
   "source": [
    "# Define Random State\n",
    "\n",
    "\n",
    "# Split the data into training and test sets\n",
    "X_train1, X_test1, y_train1, y_test1 = train_test_split(data, target, test_size=0.20, random_state=seed)"
   ]
  },
  {
   "cell_type": "code",
   "execution_count": 46,
   "metadata": {},
   "outputs": [],
   "source": [
    "text_clf = Pipeline([\n",
    "            ('vect', CountVectorizer()),\n",
    "            ('tfidf', TfidfTransformer()),\n",
    "            ('clf', MultinomialNB()),\n",
    "          ])"
   ]
  },
  {
   "cell_type": "code",
   "execution_count": 47,
   "metadata": {},
   "outputs": [
    {
     "data": {
      "text/plain": [
       "Pipeline(memory=None,\n",
       "         steps=[('vect',\n",
       "                 CountVectorizer(analyzer='word', binary=False,\n",
       "                                 decode_error='strict',\n",
       "                                 dtype=<class 'numpy.int64'>, encoding='utf-8',\n",
       "                                 input='content', lowercase=True, max_df=1.0,\n",
       "                                 max_features=None, min_df=1,\n",
       "                                 ngram_range=(1, 1), preprocessor=None,\n",
       "                                 stop_words=None, strip_accents=None,\n",
       "                                 token_pattern='(?u)\\\\b\\\\w\\\\w+\\\\b',\n",
       "                                 tokenizer=None, vocabulary=None)),\n",
       "                ('tfidf',\n",
       "                 TfidfTransformer(norm='l2', smooth_idf=True,\n",
       "                                  sublinear_tf=False, use_idf=True)),\n",
       "                ('clf',\n",
       "                 MultinomialNB(alpha=1.0, class_prior=None, fit_prior=True))],\n",
       "         verbose=False)"
      ]
     },
     "execution_count": 47,
     "metadata": {},
     "output_type": "execute_result"
    }
   ],
   "source": [
    "text_clf.fit(X_train1, y_train1)\n"
   ]
  },
  {
   "cell_type": "code",
   "execution_count": 63,
   "metadata": {},
   "outputs": [],
   "source": [
    "from sklearn.model_selection import GridSearchCV\n",
    "parameters = {\n",
    "         'vect__ngram_range': [(1, 1), (1, 2)],\n",
    "         'tfidf__use_idf': (True, False),\n",
    "         'clf__alpha': (1e-2, 1e-3),\n",
    "        }"
   ]
  },
  {
   "cell_type": "code",
   "execution_count": 65,
   "metadata": {},
   "outputs": [],
   "source": [
    "gs_clf = GridSearchCV(text_clf, parameters, cv=3, n_jobs=-1)"
   ]
  },
  {
   "cell_type": "code",
   "execution_count": 66,
   "metadata": {},
   "outputs": [],
   "source": [
    "gs_clf = gs_clf.fit(X_train1, y_train1)"
   ]
  },
  {
   "cell_type": "code",
   "execution_count": 67,
   "metadata": {},
   "outputs": [
    {
     "name": "stdout",
     "output_type": "stream",
     "text": [
      "clf__alpha: 0.001\n",
      "tfidf__use_idf: False\n",
      "vect__ngram_range: (1, 2)\n"
     ]
    }
   ],
   "source": [
    "gs_clf.best_score_\n",
    "\n",
    "for param_name in sorted(parameters.keys()):\n",
    "    print(\"%s: %r\" % (param_name, gs_clf.best_params_[param_name]))\n"
   ]
  },
  {
   "cell_type": "code",
   "execution_count": 68,
   "metadata": {},
   "outputs": [
    {
     "data": {
      "text/plain": [
       "{'mean_fit_time': array([13.95224333, 64.14501866, 14.18151498, 56.46152139, 17.52154867,\n",
       "        66.56454293, 16.41714303, 39.32036829]),\n",
       " 'std_fit_time': array([0.16982833, 0.43577555, 0.03631183, 0.42522976, 0.13577094,\n",
       "        0.28071405, 0.06577963, 0.5466591 ]),\n",
       " 'mean_score_time': array([ 7.95760171, 23.62769143,  8.01868518, 20.56471761,  9.01035674,\n",
       "        13.88696861,  8.39656432,  9.22844172]),\n",
       " 'std_score_time': array([0.05574157, 0.16074259, 0.04704447, 0.28981404, 0.10260499,\n",
       "        0.04652688, 0.19043949, 0.0993496 ]),\n",
       " 'param_clf__alpha': masked_array(data=[0.01, 0.01, 0.01, 0.01, 0.001, 0.001, 0.001, 0.001],\n",
       "              mask=[False, False, False, False, False, False, False, False],\n",
       "        fill_value='?',\n",
       "             dtype=object),\n",
       " 'param_tfidf__use_idf': masked_array(data=[True, True, False, False, True, True, False, False],\n",
       "              mask=[False, False, False, False, False, False, False, False],\n",
       "        fill_value='?',\n",
       "             dtype=object),\n",
       " 'param_vect__ngram_range': masked_array(data=[(1, 1), (1, 2), (1, 1), (1, 2), (1, 1), (1, 2), (1, 1),\n",
       "                    (1, 2)],\n",
       "              mask=[False, False, False, False, False, False, False, False],\n",
       "        fill_value='?',\n",
       "             dtype=object),\n",
       " 'params': [{'clf__alpha': 0.01,\n",
       "   'tfidf__use_idf': True,\n",
       "   'vect__ngram_range': (1, 1)},\n",
       "  {'clf__alpha': 0.01, 'tfidf__use_idf': True, 'vect__ngram_range': (1, 2)},\n",
       "  {'clf__alpha': 0.01, 'tfidf__use_idf': False, 'vect__ngram_range': (1, 1)},\n",
       "  {'clf__alpha': 0.01, 'tfidf__use_idf': False, 'vect__ngram_range': (1, 2)},\n",
       "  {'clf__alpha': 0.001, 'tfidf__use_idf': True, 'vect__ngram_range': (1, 1)},\n",
       "  {'clf__alpha': 0.001, 'tfidf__use_idf': True, 'vect__ngram_range': (1, 2)},\n",
       "  {'clf__alpha': 0.001, 'tfidf__use_idf': False, 'vect__ngram_range': (1, 1)},\n",
       "  {'clf__alpha': 0.001, 'tfidf__use_idf': False, 'vect__ngram_range': (1, 2)}],\n",
       " 'split0_test_score': array([0.9430385 , 0.96976531, 0.94662992, 0.9670091 , 0.94479245,\n",
       "        0.97009939, 0.94946964, 0.97085108]),\n",
       " 'split1_test_score': array([0.94237033, 0.96767727, 0.94612879, 0.96642446, 0.94220329,\n",
       "        0.96918066, 0.94896851, 0.96993235]),\n",
       " 'split2_test_score': array([0.94361844, 0.9683428 , 0.94787838, 0.96650518, 0.94595723,\n",
       "        0.9695122 , 0.95155363, 0.97084865]),\n",
       " 'mean_test_score': array([0.94300908, 0.96859513, 0.946879  , 0.96664625, 0.94431761,\n",
       "        0.96959742, 0.94999722, 0.97054402]),\n",
       " 'std_test_score': array([0.00050996, 0.00087092, 0.00073566, 0.00025869, 0.00156888,\n",
       "        0.00037989, 0.00111936, 0.00043253]),\n",
       " 'rank_test_score': array([8, 3, 6, 4, 7, 2, 5, 1], dtype=int32)}"
      ]
     },
     "execution_count": 68,
     "metadata": {},
     "output_type": "execute_result"
    }
   ],
   "source": [
    "gs_clf.cv_results_"
   ]
  },
  {
   "cell_type": "code",
   "execution_count": 69,
   "metadata": {},
   "outputs": [],
   "source": [
    "best_text_clf = Pipeline([\n",
    "            ('vect', CountVectorizer(ngram_range = (1,2))),\n",
    "            ('tfidf', TfidfTransformer(use_idf = False)),\n",
    "            ('clf', MultinomialNB(alpha = 0.001)),\n",
    "          ])"
   ]
  },
  {
   "cell_type": "code",
   "execution_count": 70,
   "metadata": {},
   "outputs": [
    {
     "data": {
      "text/plain": [
       "Pipeline(memory=None,\n",
       "         steps=[('vect',\n",
       "                 CountVectorizer(analyzer='word', binary=False,\n",
       "                                 decode_error='strict',\n",
       "                                 dtype=<class 'numpy.int64'>, encoding='utf-8',\n",
       "                                 input='content', lowercase=True, max_df=1.0,\n",
       "                                 max_features=None, min_df=1,\n",
       "                                 ngram_range=(1, 2), preprocessor=None,\n",
       "                                 stop_words=None, strip_accents=None,\n",
       "                                 token_pattern='(?u)\\\\b\\\\w\\\\w+\\\\b',\n",
       "                                 tokenizer=None, vocabulary=None)),\n",
       "                ('tfidf',\n",
       "                 TfidfTransformer(norm='l2', smooth_idf=True,\n",
       "                                  sublinear_tf=False, use_idf=False)),\n",
       "                ('clf',\n",
       "                 MultinomialNB(alpha=0.001, class_prior=None, fit_prior=True))],\n",
       "         verbose=False)"
      ]
     },
     "execution_count": 70,
     "metadata": {},
     "output_type": "execute_result"
    }
   ],
   "source": [
    "best_text_clf.fit(X_train1, y_train1)"
   ]
  },
  {
   "cell_type": "code",
   "execution_count": 74,
   "metadata": {},
   "outputs": [],
   "source": [
    "predicted_best = best_text_clf.predict(text_guardian)"
   ]
  },
  {
   "cell_type": "code",
   "execution_count": 75,
   "metadata": {},
   "outputs": [
    {
     "data": {
      "text/plain": [
       "2599"
      ]
     },
     "execution_count": 75,
     "metadata": {},
     "output_type": "execute_result"
    }
   ],
   "source": [
    "predicted_best_list = predicted_best.tolist()\n",
    "true_count = predicted_best_list.count(1)\n",
    "true_count"
   ]
  },
  {
   "cell_type": "code",
   "execution_count": 76,
   "metadata": {},
   "outputs": [
    {
     "data": {
      "text/plain": [
       "67.01908200103146"
      ]
     },
     "execution_count": 76,
     "metadata": {},
     "output_type": "execute_result"
    }
   ],
   "source": [
    "percentage_true = true_count*100/len(predicted_best)\n",
    "percentage_true"
   ]
  },
  {
   "cell_type": "code",
   "execution_count": null,
   "metadata": {},
   "outputs": [],
   "source": []
  },
  {
   "cell_type": "code",
   "execution_count": null,
   "metadata": {},
   "outputs": [],
   "source": []
  },
  {
   "cell_type": "code",
   "execution_count": null,
   "metadata": {},
   "outputs": [],
   "source": []
  },
  {
   "cell_type": "code",
   "execution_count": null,
   "metadata": {},
   "outputs": [],
   "source": []
  },
  {
   "cell_type": "code",
   "execution_count": null,
   "metadata": {},
   "outputs": [],
   "source": []
  },
  {
   "cell_type": "markdown",
   "metadata": {},
   "source": [
    "### Parameters"
   ]
  },
  {
   "cell_type": "markdown",
   "metadata": {},
   "source": [
    "In this project we uploaded Heart.csv dat aset from kagle. After analysing some features I realized that there were some errors in it. To start with: the target feature had 0 for heart disease and 1 for healthy, the eaxct oposite of what the feature description was. I decided to uploade the pre-processed dataset directly from UC Irvine Machine Learning Repository. I cleaned the data, turn category features into dummy categories, normalized continuous data, and checked it for correlations.\n",
    "I built five models using: Bagging, Random Forest, Logistic Regression, XGBoost and KNeighbors. \n",
    "I Used Gridsearch to look for the best hyperparameters.\n",
    "Logistic Regression Model performed the best from Recall score point of view and Accuracy so I used the parameters found with Gridsearch to fit a final Logistic Regression Model.\n",
    "Following the suggestions from the feature importance plot I focused on 4 features:\n",
    "Fasting Blood Sugar seem to be a good indicator for cardiovascular diseases.\n",
    "Thalium stress test result (reversible defect) - High indicator for Heart Disease\n",
    "                                               \n",
    "\n",
    "Sex                                            - Taken with a grain of salt, man are more                                                      prone to developing heart disease.\n",
    "\n",
    "Exercise Indused Angina                        - Good indicator for Heart Disease\n",
    "            \n"
   ]
  },
  {
   "cell_type": "markdown",
   "metadata": {},
   "source": [
    "## Recommendations "
   ]
  },
  {
   "cell_type": "markdown",
   "metadata": {},
   "source": [
    "For a cardiologist:\n",
    "1. Stress the ideea male in their thirties to watch their diet and working on becoming more active.\n",
    "\n",
    "2. Women are more likely to not beeing taken seriously if they experience heart issues earlier in life. \n",
    "\n",
    "3. Recommend further investigations for pacients who: - have high blood glucose,\n",
    "                                          - experience exercise induced angina,\n",
    "\n",
    "                                          - have a Thalium Stress Test reversible effect."
   ]
  },
  {
   "cell_type": "markdown",
   "metadata": {},
   "source": [
    "## Future Work"
   ]
  },
  {
   "cell_type": "markdown",
   "metadata": {},
   "source": [
    "1. Find a more recent dataset with pacients evaluated for cardiovascular diseases and buid a model on that dataset. Statistics have changed a lot since 30+ yewars ago.\n",
    "\n",
    "2. Improve the XGBoost Model with the best hyperparameters found with SearchGrid.\n",
    "3. Adding BMI would Definitely improve our model. "
   ]
  },
  {
   "cell_type": "code",
   "execution_count": null,
   "metadata": {},
   "outputs": [],
   "source": []
  }
 ],
 "metadata": {
  "kernelspec": {
   "display_name": "Python [conda env:learn-env] *",
   "language": "python",
   "name": "conda-env-learn-env-py"
  },
  "language_info": {
   "codemirror_mode": {
    "name": "ipython",
    "version": 3
   },
   "file_extension": ".py",
   "mimetype": "text/x-python",
   "name": "python",
   "nbconvert_exporter": "python",
   "pygments_lexer": "ipython3",
   "version": "3.6.9"
  }
 },
 "nbformat": 4,
 "nbformat_minor": 2
}
